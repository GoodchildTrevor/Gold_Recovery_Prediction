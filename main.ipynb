{
 "cells": [
  {
   "cell_type": "markdown",
   "id": "c1d37d1b",
   "metadata": {},
   "source": [
    "# Цели и задачи проекта:"
   ]
  },
  {
   "cell_type": "markdown",
   "id": "02d644d6",
   "metadata": {},
   "source": [
    "### Цель:"
   ]
  },
  {
   "cell_type": "markdown",
   "id": "20292894",
   "metadata": {},
   "source": [
    "Подготовить прототип модели машинного обучения для «Цифры». "
   ]
  },
  {
   "cell_type": "markdown",
   "id": "7cd3b122",
   "metadata": {},
   "source": [
    "### Задачи:"
   ]
  },
  {
   "cell_type": "markdown",
   "id": "c3b33c0d",
   "metadata": {},
   "source": [
    "1. Подготовить и обработать данные "
   ]
  },
  {
   "cell_type": "markdown",
   "id": "c610520b",
   "metadata": {},
   "source": [
    "2. Посмотреть изменение концентрации металлов и суммарную концентрацию"
   ]
  },
  {
   "cell_type": "markdown",
   "id": "018cb2e9",
   "metadata": {},
   "source": [
    "3. Сравните распределения размеров гранул сырья на обучающей и тестовой выборках"
   ]
  },
  {
   "cell_type": "markdown",
   "id": "7d2eb1b5",
   "metadata": {},
   "source": [
    "4. Вычислить показатель sMAPE для разных моделей "
   ]
  },
  {
   "cell_type": "markdown",
   "id": "531dd6d1",
   "metadata": {},
   "source": [
    "## Подготовьте данные"
   ]
  },
  {
   "cell_type": "markdown",
   "id": "42723890",
   "metadata": {},
   "source": [
    "### Откройте файлы и изучите их"
   ]
  },
  {
   "cell_type": "markdown",
   "id": "6d7f3786",
   "metadata": {},
   "source": [
    "Импортирую библиотеки"
   ]
  },
  {
   "cell_type": "code",
   "execution_count": 220,
   "id": "a98bb427",
   "metadata": {},
   "outputs": [],
   "source": [
    "import os\n",
    "\n",
    "import pandas as pd\n",
    "\n",
    "import numpy as np\n",
    "import matplotlib.pyplot as plt\n",
    "import pylab\n",
    "from scipy import stats as st\n",
    "import seaborn as sns\n",
    "\n",
    "from sklearn.tree import DecisionTreeRegressor\n",
    "from sklearn.ensemble import RandomForestRegressor\n",
    "from sklearn.linear_model import LinearRegression\n",
    "from sklearn.dummy import DummyRegressor\n",
    "from sklearn.model_selection import cross_val_score, GridSearchCV, train_test_split\n",
    "from sklearn.metrics import mean_squared_error, mean_absolute_error, make_scorer\n",
    "from sklearn.preprocessing import StandardScaler\n",
    "from sklearn.utils import resample"
   ]
  },
  {
   "cell_type": "markdown",
   "id": "f6efcb91",
   "metadata": {},
   "source": [
    "Открываю файлы"
   ]
  },
  {
   "cell_type": "code",
   "execution_count": 221,
   "id": "3a296b9a",
   "metadata": {},
   "outputs": [],
   "source": [
    "pth1 = 'gold_recovery_train_new.csv'\n",
    "pth2 = '/datasets/gold_recovery_train_new.csv'\n",
    "\n",
    "if os.path.exists(pth1):\n",
    "    gd_train = pd.read_csv(pth1)\n",
    "elif os.path.exists(pth2):\n",
    "    gd_train = pd.read_csv(pth2)\n",
    "else:\n",
    "    print('Something is wrong')"
   ]
  },
  {
   "cell_type": "code",
   "execution_count": 222,
   "id": "f1f5c478",
   "metadata": {},
   "outputs": [],
   "source": [
    "pth1 = 'gold_recovery_test_new.csv'\n",
    "pth2 = '/datasets/gold_recovery_test_new.csv'\n",
    "\n",
    "if os.path.exists(pth1):\n",
    "    gd_test = pd.read_csv(pth1)\n",
    "elif os.path.exists(pth2):\n",
    "    gd_test = pd.read_csv(pth2)\n",
    "else:\n",
    "    print('Something is wrong')"
   ]
  },
  {
   "cell_type": "code",
   "execution_count": 223,
   "id": "51b03e2d",
   "metadata": {},
   "outputs": [],
   "source": [
    "pth1 = 'gold_recovery_full_new.csv'\n",
    "pth2 = '/datasets/gold_recovery_full_new.csv'\n",
    "\n",
    "if os.path.exists(pth1):\n",
    "    gd_full = pd.read_csv(pth1)\n",
    "elif os.path.exists(pth2):\n",
    "    gd_full = pd.read_csv(pth2)\n",
    "else:\n",
    "    print('Something is wrong')"
   ]
  },
  {
   "cell_type": "markdown",
   "id": "0ada5cba",
   "metadata": {},
   "source": [
    "Создаю функцию для обзора датасетов"
   ]
  },
  {
   "cell_type": "code",
   "execution_count": 224,
   "id": "4631ba98",
   "metadata": {},
   "outputs": [],
   "source": [
    "def intro(data):\n",
    "    print(data.info())\n",
    "    display(data.head())"
   ]
  },
  {
   "cell_type": "markdown",
   "id": "c4d13d95",
   "metadata": {},
   "source": [
    "Создаём постоянные списки для будущих операций с данными"
   ]
  },
  {
   "cell_type": "code",
   "execution_count": 225,
   "id": "0ddc884f",
   "metadata": {},
   "outputs": [],
   "source": [
    "TARGETS = ['rougher.output.recovery', 'final.output.recovery']\n",
    "DATA_TARGET = ['date', 'rougher.output.recovery', 'final.output.recovery']\n",
    "METALS = ['au', 'ag', 'pb']\n",
    "CONCENTRATE = ['rougher.input.feed', 'rougher.output.concentrate', 'primary_cleaner.output.concentrate', 'final.output.concentrate']\n",
    "FEED_SIZE = ['rougher.input.feed_size', 'primary_cleaner.input.feed_size']"
   ]
  },
  {
   "cell_type": "markdown",
   "id": "ad243908",
   "metadata": {},
   "source": [
    "Смотрю датасеты"
   ]
  },
  {
   "cell_type": "code",
   "execution_count": 226,
   "id": "f4359f57",
   "metadata": {},
   "outputs": [
    {
     "name": "stdout",
     "output_type": "stream",
     "text": [
      "<class 'pandas.core.frame.DataFrame'>\n",
      "RangeIndex: 14149 entries, 0 to 14148\n",
      "Data columns (total 87 columns):\n",
      " #   Column                                              Non-Null Count  Dtype  \n",
      "---  ------                                              --------------  -----  \n",
      " 0   date                                                14149 non-null  object \n",
      " 1   final.output.concentrate_ag                         14148 non-null  float64\n",
      " 2   final.output.concentrate_pb                         14148 non-null  float64\n",
      " 3   final.output.concentrate_sol                        13938 non-null  float64\n",
      " 4   final.output.concentrate_au                         14149 non-null  float64\n",
      " 5   final.output.recovery                               14149 non-null  float64\n",
      " 6   final.output.tail_ag                                14149 non-null  float64\n",
      " 7   final.output.tail_pb                                14049 non-null  float64\n",
      " 8   final.output.tail_sol                               14144 non-null  float64\n",
      " 9   final.output.tail_au                                14149 non-null  float64\n",
      " 10  primary_cleaner.input.sulfate                       14129 non-null  float64\n",
      " 11  primary_cleaner.input.depressant                    14117 non-null  float64\n",
      " 12  primary_cleaner.input.feed_size                     14149 non-null  float64\n",
      " 13  primary_cleaner.input.xanthate                      14049 non-null  float64\n",
      " 14  primary_cleaner.output.concentrate_ag               14149 non-null  float64\n",
      " 15  primary_cleaner.output.concentrate_pb               14063 non-null  float64\n",
      " 16  primary_cleaner.output.concentrate_sol              13863 non-null  float64\n",
      " 17  primary_cleaner.output.concentrate_au               14149 non-null  float64\n",
      " 18  primary_cleaner.output.tail_ag                      14148 non-null  float64\n",
      " 19  primary_cleaner.output.tail_pb                      14134 non-null  float64\n",
      " 20  primary_cleaner.output.tail_sol                     14103 non-null  float64\n",
      " 21  primary_cleaner.output.tail_au                      14149 non-null  float64\n",
      " 22  primary_cleaner.state.floatbank8_a_air              14145 non-null  float64\n",
      " 23  primary_cleaner.state.floatbank8_a_level            14148 non-null  float64\n",
      " 24  primary_cleaner.state.floatbank8_b_air              14145 non-null  float64\n",
      " 25  primary_cleaner.state.floatbank8_b_level            14148 non-null  float64\n",
      " 26  primary_cleaner.state.floatbank8_c_air              14147 non-null  float64\n",
      " 27  primary_cleaner.state.floatbank8_c_level            14148 non-null  float64\n",
      " 28  primary_cleaner.state.floatbank8_d_air              14146 non-null  float64\n",
      " 29  primary_cleaner.state.floatbank8_d_level            14148 non-null  float64\n",
      " 30  rougher.calculation.sulfate_to_au_concentrate       14148 non-null  float64\n",
      " 31  rougher.calculation.floatbank10_sulfate_to_au_feed  14148 non-null  float64\n",
      " 32  rougher.calculation.floatbank11_sulfate_to_au_feed  14148 non-null  float64\n",
      " 33  rougher.calculation.au_pb_ratio                     14149 non-null  float64\n",
      " 34  rougher.input.feed_ag                               14149 non-null  float64\n",
      " 35  rougher.input.feed_pb                               14049 non-null  float64\n",
      " 36  rougher.input.feed_rate                             14141 non-null  float64\n",
      " 37  rougher.input.feed_size                             14005 non-null  float64\n",
      " 38  rougher.input.feed_sol                              14071 non-null  float64\n",
      " 39  rougher.input.feed_au                               14149 non-null  float64\n",
      " 40  rougher.input.floatbank10_sulfate                   14120 non-null  float64\n",
      " 41  rougher.input.floatbank10_xanthate                  14141 non-null  float64\n",
      " 42  rougher.input.floatbank11_sulfate                   14113 non-null  float64\n",
      " 43  rougher.input.floatbank11_xanthate                  13721 non-null  float64\n",
      " 44  rougher.output.concentrate_ag                       14149 non-null  float64\n",
      " 45  rougher.output.concentrate_pb                       14149 non-null  float64\n",
      " 46  rougher.output.concentrate_sol                      14127 non-null  float64\n",
      " 47  rougher.output.concentrate_au                       14149 non-null  float64\n",
      " 48  rougher.output.recovery                             14149 non-null  float64\n",
      " 49  rougher.output.tail_ag                              14148 non-null  float64\n",
      " 50  rougher.output.tail_pb                              14149 non-null  float64\n",
      " 51  rougher.output.tail_sol                             14149 non-null  float64\n",
      " 52  rougher.output.tail_au                              14149 non-null  float64\n",
      " 53  rougher.state.floatbank10_a_air                     14148 non-null  float64\n",
      " 54  rougher.state.floatbank10_a_level                   14148 non-null  float64\n",
      " 55  rougher.state.floatbank10_b_air                     14148 non-null  float64\n",
      " 56  rougher.state.floatbank10_b_level                   14148 non-null  float64\n",
      " 57  rougher.state.floatbank10_c_air                     14148 non-null  float64\n",
      " 58  rougher.state.floatbank10_c_level                   14148 non-null  float64\n",
      " 59  rougher.state.floatbank10_d_air                     14149 non-null  float64\n",
      " 60  rougher.state.floatbank10_d_level                   14149 non-null  float64\n",
      " 61  rougher.state.floatbank10_e_air                     13713 non-null  float64\n",
      " 62  rougher.state.floatbank10_e_level                   14149 non-null  float64\n",
      " 63  rougher.state.floatbank10_f_air                     14149 non-null  float64\n",
      " 64  rougher.state.floatbank10_f_level                   14149 non-null  float64\n",
      " 65  secondary_cleaner.output.tail_ag                    14147 non-null  float64\n",
      " 66  secondary_cleaner.output.tail_pb                    14139 non-null  float64\n",
      " 67  secondary_cleaner.output.tail_sol                   12544 non-null  float64\n",
      " 68  secondary_cleaner.output.tail_au                    14149 non-null  float64\n",
      " 69  secondary_cleaner.state.floatbank2_a_air            13932 non-null  float64\n",
      " 70  secondary_cleaner.state.floatbank2_a_level          14148 non-null  float64\n",
      " 71  secondary_cleaner.state.floatbank2_b_air            14128 non-null  float64\n",
      " 72  secondary_cleaner.state.floatbank2_b_level          14148 non-null  float64\n",
      " 73  secondary_cleaner.state.floatbank3_a_air            14145 non-null  float64\n",
      " 74  secondary_cleaner.state.floatbank3_a_level          14148 non-null  float64\n",
      " 75  secondary_cleaner.state.floatbank3_b_air            14148 non-null  float64\n",
      " 76  secondary_cleaner.state.floatbank3_b_level          14148 non-null  float64\n",
      " 77  secondary_cleaner.state.floatbank4_a_air            14143 non-null  float64\n",
      " 78  secondary_cleaner.state.floatbank4_a_level          14148 non-null  float64\n",
      " 79  secondary_cleaner.state.floatbank4_b_air            14148 non-null  float64\n",
      " 80  secondary_cleaner.state.floatbank4_b_level          14148 non-null  float64\n",
      " 81  secondary_cleaner.state.floatbank5_a_air            14148 non-null  float64\n",
      " 82  secondary_cleaner.state.floatbank5_a_level          14148 non-null  float64\n",
      " 83  secondary_cleaner.state.floatbank5_b_air            14148 non-null  float64\n",
      " 84  secondary_cleaner.state.floatbank5_b_level          14148 non-null  float64\n",
      " 85  secondary_cleaner.state.floatbank6_a_air            14147 non-null  float64\n",
      " 86  secondary_cleaner.state.floatbank6_a_level          14148 non-null  float64\n",
      "dtypes: float64(86), object(1)\n",
      "memory usage: 9.4+ MB\n",
      "None\n"
     ]
    },
    {
     "data": {
      "text/html": [
       "<div>\n",
       "<style scoped>\n",
       "    .dataframe tbody tr th:only-of-type {\n",
       "        vertical-align: middle;\n",
       "    }\n",
       "\n",
       "    .dataframe tbody tr th {\n",
       "        vertical-align: top;\n",
       "    }\n",
       "\n",
       "    .dataframe thead th {\n",
       "        text-align: right;\n",
       "    }\n",
       "</style>\n",
       "<table border=\"1\" class=\"dataframe\">\n",
       "  <thead>\n",
       "    <tr style=\"text-align: right;\">\n",
       "      <th></th>\n",
       "      <th>date</th>\n",
       "      <th>final.output.concentrate_ag</th>\n",
       "      <th>final.output.concentrate_pb</th>\n",
       "      <th>final.output.concentrate_sol</th>\n",
       "      <th>final.output.concentrate_au</th>\n",
       "      <th>final.output.recovery</th>\n",
       "      <th>final.output.tail_ag</th>\n",
       "      <th>final.output.tail_pb</th>\n",
       "      <th>final.output.tail_sol</th>\n",
       "      <th>final.output.tail_au</th>\n",
       "      <th>...</th>\n",
       "      <th>secondary_cleaner.state.floatbank4_a_air</th>\n",
       "      <th>secondary_cleaner.state.floatbank4_a_level</th>\n",
       "      <th>secondary_cleaner.state.floatbank4_b_air</th>\n",
       "      <th>secondary_cleaner.state.floatbank4_b_level</th>\n",
       "      <th>secondary_cleaner.state.floatbank5_a_air</th>\n",
       "      <th>secondary_cleaner.state.floatbank5_a_level</th>\n",
       "      <th>secondary_cleaner.state.floatbank5_b_air</th>\n",
       "      <th>secondary_cleaner.state.floatbank5_b_level</th>\n",
       "      <th>secondary_cleaner.state.floatbank6_a_air</th>\n",
       "      <th>secondary_cleaner.state.floatbank6_a_level</th>\n",
       "    </tr>\n",
       "  </thead>\n",
       "  <tbody>\n",
       "    <tr>\n",
       "      <th>0</th>\n",
       "      <td>2016-01-15 00:00:00</td>\n",
       "      <td>6.055403</td>\n",
       "      <td>9.889648</td>\n",
       "      <td>5.507324</td>\n",
       "      <td>42.192020</td>\n",
       "      <td>70.541216</td>\n",
       "      <td>10.411962</td>\n",
       "      <td>0.895447</td>\n",
       "      <td>16.904297</td>\n",
       "      <td>2.143149</td>\n",
       "      <td>...</td>\n",
       "      <td>14.016835</td>\n",
       "      <td>-502.488007</td>\n",
       "      <td>12.099931</td>\n",
       "      <td>-504.715942</td>\n",
       "      <td>9.925633</td>\n",
       "      <td>-498.310211</td>\n",
       "      <td>8.079666</td>\n",
       "      <td>-500.470978</td>\n",
       "      <td>14.151341</td>\n",
       "      <td>-605.841980</td>\n",
       "    </tr>\n",
       "    <tr>\n",
       "      <th>1</th>\n",
       "      <td>2016-01-15 01:00:00</td>\n",
       "      <td>6.029369</td>\n",
       "      <td>9.968944</td>\n",
       "      <td>5.257781</td>\n",
       "      <td>42.701629</td>\n",
       "      <td>69.266198</td>\n",
       "      <td>10.462676</td>\n",
       "      <td>0.927452</td>\n",
       "      <td>16.634514</td>\n",
       "      <td>2.224930</td>\n",
       "      <td>...</td>\n",
       "      <td>13.992281</td>\n",
       "      <td>-505.503262</td>\n",
       "      <td>11.950531</td>\n",
       "      <td>-501.331529</td>\n",
       "      <td>10.039245</td>\n",
       "      <td>-500.169983</td>\n",
       "      <td>7.984757</td>\n",
       "      <td>-500.582168</td>\n",
       "      <td>13.998353</td>\n",
       "      <td>-599.787184</td>\n",
       "    </tr>\n",
       "    <tr>\n",
       "      <th>2</th>\n",
       "      <td>2016-01-15 02:00:00</td>\n",
       "      <td>6.055926</td>\n",
       "      <td>10.213995</td>\n",
       "      <td>5.383759</td>\n",
       "      <td>42.657501</td>\n",
       "      <td>68.116445</td>\n",
       "      <td>10.507046</td>\n",
       "      <td>0.953716</td>\n",
       "      <td>16.208849</td>\n",
       "      <td>2.257889</td>\n",
       "      <td>...</td>\n",
       "      <td>14.015015</td>\n",
       "      <td>-502.520901</td>\n",
       "      <td>11.912783</td>\n",
       "      <td>-501.133383</td>\n",
       "      <td>10.070913</td>\n",
       "      <td>-500.129135</td>\n",
       "      <td>8.013877</td>\n",
       "      <td>-500.517572</td>\n",
       "      <td>14.028663</td>\n",
       "      <td>-601.427363</td>\n",
       "    </tr>\n",
       "    <tr>\n",
       "      <th>3</th>\n",
       "      <td>2016-01-15 03:00:00</td>\n",
       "      <td>6.047977</td>\n",
       "      <td>9.977019</td>\n",
       "      <td>4.858634</td>\n",
       "      <td>42.689819</td>\n",
       "      <td>68.347543</td>\n",
       "      <td>10.422762</td>\n",
       "      <td>0.883763</td>\n",
       "      <td>16.532835</td>\n",
       "      <td>2.146849</td>\n",
       "      <td>...</td>\n",
       "      <td>14.036510</td>\n",
       "      <td>-500.857308</td>\n",
       "      <td>11.999550</td>\n",
       "      <td>-501.193686</td>\n",
       "      <td>9.970366</td>\n",
       "      <td>-499.201640</td>\n",
       "      <td>7.977324</td>\n",
       "      <td>-500.255908</td>\n",
       "      <td>14.005551</td>\n",
       "      <td>-599.996129</td>\n",
       "    </tr>\n",
       "    <tr>\n",
       "      <th>4</th>\n",
       "      <td>2016-01-15 04:00:00</td>\n",
       "      <td>6.148599</td>\n",
       "      <td>10.142511</td>\n",
       "      <td>4.939416</td>\n",
       "      <td>42.774141</td>\n",
       "      <td>66.927016</td>\n",
       "      <td>10.360302</td>\n",
       "      <td>0.792826</td>\n",
       "      <td>16.525686</td>\n",
       "      <td>2.055292</td>\n",
       "      <td>...</td>\n",
       "      <td>14.027298</td>\n",
       "      <td>-499.838632</td>\n",
       "      <td>11.953070</td>\n",
       "      <td>-501.053894</td>\n",
       "      <td>9.925709</td>\n",
       "      <td>-501.686727</td>\n",
       "      <td>7.894242</td>\n",
       "      <td>-500.356035</td>\n",
       "      <td>13.996647</td>\n",
       "      <td>-601.496691</td>\n",
       "    </tr>\n",
       "  </tbody>\n",
       "</table>\n",
       "<p>5 rows × 87 columns</p>\n",
       "</div>"
      ],
      "text/plain": [
       "                  date  final.output.concentrate_ag  \\\n",
       "0  2016-01-15 00:00:00                     6.055403   \n",
       "1  2016-01-15 01:00:00                     6.029369   \n",
       "2  2016-01-15 02:00:00                     6.055926   \n",
       "3  2016-01-15 03:00:00                     6.047977   \n",
       "4  2016-01-15 04:00:00                     6.148599   \n",
       "\n",
       "   final.output.concentrate_pb  final.output.concentrate_sol  \\\n",
       "0                     9.889648                      5.507324   \n",
       "1                     9.968944                      5.257781   \n",
       "2                    10.213995                      5.383759   \n",
       "3                     9.977019                      4.858634   \n",
       "4                    10.142511                      4.939416   \n",
       "\n",
       "   final.output.concentrate_au  final.output.recovery  final.output.tail_ag  \\\n",
       "0                    42.192020              70.541216             10.411962   \n",
       "1                    42.701629              69.266198             10.462676   \n",
       "2                    42.657501              68.116445             10.507046   \n",
       "3                    42.689819              68.347543             10.422762   \n",
       "4                    42.774141              66.927016             10.360302   \n",
       "\n",
       "   final.output.tail_pb  final.output.tail_sol  final.output.tail_au  ...  \\\n",
       "0              0.895447              16.904297              2.143149  ...   \n",
       "1              0.927452              16.634514              2.224930  ...   \n",
       "2              0.953716              16.208849              2.257889  ...   \n",
       "3              0.883763              16.532835              2.146849  ...   \n",
       "4              0.792826              16.525686              2.055292  ...   \n",
       "\n",
       "   secondary_cleaner.state.floatbank4_a_air  \\\n",
       "0                                 14.016835   \n",
       "1                                 13.992281   \n",
       "2                                 14.015015   \n",
       "3                                 14.036510   \n",
       "4                                 14.027298   \n",
       "\n",
       "   secondary_cleaner.state.floatbank4_a_level  \\\n",
       "0                                 -502.488007   \n",
       "1                                 -505.503262   \n",
       "2                                 -502.520901   \n",
       "3                                 -500.857308   \n",
       "4                                 -499.838632   \n",
       "\n",
       "   secondary_cleaner.state.floatbank4_b_air  \\\n",
       "0                                 12.099931   \n",
       "1                                 11.950531   \n",
       "2                                 11.912783   \n",
       "3                                 11.999550   \n",
       "4                                 11.953070   \n",
       "\n",
       "   secondary_cleaner.state.floatbank4_b_level  \\\n",
       "0                                 -504.715942   \n",
       "1                                 -501.331529   \n",
       "2                                 -501.133383   \n",
       "3                                 -501.193686   \n",
       "4                                 -501.053894   \n",
       "\n",
       "   secondary_cleaner.state.floatbank5_a_air  \\\n",
       "0                                  9.925633   \n",
       "1                                 10.039245   \n",
       "2                                 10.070913   \n",
       "3                                  9.970366   \n",
       "4                                  9.925709   \n",
       "\n",
       "   secondary_cleaner.state.floatbank5_a_level  \\\n",
       "0                                 -498.310211   \n",
       "1                                 -500.169983   \n",
       "2                                 -500.129135   \n",
       "3                                 -499.201640   \n",
       "4                                 -501.686727   \n",
       "\n",
       "   secondary_cleaner.state.floatbank5_b_air  \\\n",
       "0                                  8.079666   \n",
       "1                                  7.984757   \n",
       "2                                  8.013877   \n",
       "3                                  7.977324   \n",
       "4                                  7.894242   \n",
       "\n",
       "   secondary_cleaner.state.floatbank5_b_level  \\\n",
       "0                                 -500.470978   \n",
       "1                                 -500.582168   \n",
       "2                                 -500.517572   \n",
       "3                                 -500.255908   \n",
       "4                                 -500.356035   \n",
       "\n",
       "   secondary_cleaner.state.floatbank6_a_air  \\\n",
       "0                                 14.151341   \n",
       "1                                 13.998353   \n",
       "2                                 14.028663   \n",
       "3                                 14.005551   \n",
       "4                                 13.996647   \n",
       "\n",
       "   secondary_cleaner.state.floatbank6_a_level  \n",
       "0                                 -605.841980  \n",
       "1                                 -599.787184  \n",
       "2                                 -601.427363  \n",
       "3                                 -599.996129  \n",
       "4                                 -601.496691  \n",
       "\n",
       "[5 rows x 87 columns]"
      ]
     },
     "metadata": {},
     "output_type": "display_data"
    }
   ],
   "source": [
    "intro(gd_train)"
   ]
  },
  {
   "cell_type": "code",
   "execution_count": 227,
   "id": "b10ba162",
   "metadata": {
    "scrolled": true
   },
   "outputs": [
    {
     "name": "stdout",
     "output_type": "stream",
     "text": [
      "<class 'pandas.core.frame.DataFrame'>\n",
      "RangeIndex: 5290 entries, 0 to 5289\n",
      "Data columns (total 53 columns):\n",
      " #   Column                                      Non-Null Count  Dtype  \n",
      "---  ------                                      --------------  -----  \n",
      " 0   date                                        5290 non-null   object \n",
      " 1   primary_cleaner.input.sulfate               5286 non-null   float64\n",
      " 2   primary_cleaner.input.depressant            5285 non-null   float64\n",
      " 3   primary_cleaner.input.feed_size             5290 non-null   float64\n",
      " 4   primary_cleaner.input.xanthate              5286 non-null   float64\n",
      " 5   primary_cleaner.state.floatbank8_a_air      5290 non-null   float64\n",
      " 6   primary_cleaner.state.floatbank8_a_level    5290 non-null   float64\n",
      " 7   primary_cleaner.state.floatbank8_b_air      5290 non-null   float64\n",
      " 8   primary_cleaner.state.floatbank8_b_level    5290 non-null   float64\n",
      " 9   primary_cleaner.state.floatbank8_c_air      5290 non-null   float64\n",
      " 10  primary_cleaner.state.floatbank8_c_level    5290 non-null   float64\n",
      " 11  primary_cleaner.state.floatbank8_d_air      5290 non-null   float64\n",
      " 12  primary_cleaner.state.floatbank8_d_level    5290 non-null   float64\n",
      " 13  rougher.input.feed_ag                       5290 non-null   float64\n",
      " 14  rougher.input.feed_pb                       5290 non-null   float64\n",
      " 15  rougher.input.feed_rate                     5287 non-null   float64\n",
      " 16  rougher.input.feed_size                     5289 non-null   float64\n",
      " 17  rougher.input.feed_sol                      5269 non-null   float64\n",
      " 18  rougher.input.feed_au                       5290 non-null   float64\n",
      " 19  rougher.input.floatbank10_sulfate           5285 non-null   float64\n",
      " 20  rougher.input.floatbank10_xanthate          5290 non-null   float64\n",
      " 21  rougher.input.floatbank11_sulfate           5282 non-null   float64\n",
      " 22  rougher.input.floatbank11_xanthate          5265 non-null   float64\n",
      " 23  rougher.state.floatbank10_a_air             5290 non-null   float64\n",
      " 24  rougher.state.floatbank10_a_level           5290 non-null   float64\n",
      " 25  rougher.state.floatbank10_b_air             5290 non-null   float64\n",
      " 26  rougher.state.floatbank10_b_level           5290 non-null   float64\n",
      " 27  rougher.state.floatbank10_c_air             5290 non-null   float64\n",
      " 28  rougher.state.floatbank10_c_level           5290 non-null   float64\n",
      " 29  rougher.state.floatbank10_d_air             5290 non-null   float64\n",
      " 30  rougher.state.floatbank10_d_level           5290 non-null   float64\n",
      " 31  rougher.state.floatbank10_e_air             5290 non-null   float64\n",
      " 32  rougher.state.floatbank10_e_level           5290 non-null   float64\n",
      " 33  rougher.state.floatbank10_f_air             5290 non-null   float64\n",
      " 34  rougher.state.floatbank10_f_level           5290 non-null   float64\n",
      " 35  secondary_cleaner.state.floatbank2_a_air    5287 non-null   float64\n",
      " 36  secondary_cleaner.state.floatbank2_a_level  5290 non-null   float64\n",
      " 37  secondary_cleaner.state.floatbank2_b_air    5288 non-null   float64\n",
      " 38  secondary_cleaner.state.floatbank2_b_level  5290 non-null   float64\n",
      " 39  secondary_cleaner.state.floatbank3_a_air    5281 non-null   float64\n",
      " 40  secondary_cleaner.state.floatbank3_a_level  5290 non-null   float64\n",
      " 41  secondary_cleaner.state.floatbank3_b_air    5290 non-null   float64\n",
      " 42  secondary_cleaner.state.floatbank3_b_level  5290 non-null   float64\n",
      " 43  secondary_cleaner.state.floatbank4_a_air    5290 non-null   float64\n",
      " 44  secondary_cleaner.state.floatbank4_a_level  5290 non-null   float64\n",
      " 45  secondary_cleaner.state.floatbank4_b_air    5290 non-null   float64\n",
      " 46  secondary_cleaner.state.floatbank4_b_level  5290 non-null   float64\n",
      " 47  secondary_cleaner.state.floatbank5_a_air    5290 non-null   float64\n",
      " 48  secondary_cleaner.state.floatbank5_a_level  5290 non-null   float64\n",
      " 49  secondary_cleaner.state.floatbank5_b_air    5290 non-null   float64\n",
      " 50  secondary_cleaner.state.floatbank5_b_level  5290 non-null   float64\n",
      " 51  secondary_cleaner.state.floatbank6_a_air    5290 non-null   float64\n",
      " 52  secondary_cleaner.state.floatbank6_a_level  5290 non-null   float64\n",
      "dtypes: float64(52), object(1)\n",
      "memory usage: 2.1+ MB\n",
      "None\n"
     ]
    },
    {
     "data": {
      "text/html": [
       "<div>\n",
       "<style scoped>\n",
       "    .dataframe tbody tr th:only-of-type {\n",
       "        vertical-align: middle;\n",
       "    }\n",
       "\n",
       "    .dataframe tbody tr th {\n",
       "        vertical-align: top;\n",
       "    }\n",
       "\n",
       "    .dataframe thead th {\n",
       "        text-align: right;\n",
       "    }\n",
       "</style>\n",
       "<table border=\"1\" class=\"dataframe\">\n",
       "  <thead>\n",
       "    <tr style=\"text-align: right;\">\n",
       "      <th></th>\n",
       "      <th>date</th>\n",
       "      <th>primary_cleaner.input.sulfate</th>\n",
       "      <th>primary_cleaner.input.depressant</th>\n",
       "      <th>primary_cleaner.input.feed_size</th>\n",
       "      <th>primary_cleaner.input.xanthate</th>\n",
       "      <th>primary_cleaner.state.floatbank8_a_air</th>\n",
       "      <th>primary_cleaner.state.floatbank8_a_level</th>\n",
       "      <th>primary_cleaner.state.floatbank8_b_air</th>\n",
       "      <th>primary_cleaner.state.floatbank8_b_level</th>\n",
       "      <th>primary_cleaner.state.floatbank8_c_air</th>\n",
       "      <th>...</th>\n",
       "      <th>secondary_cleaner.state.floatbank4_a_air</th>\n",
       "      <th>secondary_cleaner.state.floatbank4_a_level</th>\n",
       "      <th>secondary_cleaner.state.floatbank4_b_air</th>\n",
       "      <th>secondary_cleaner.state.floatbank4_b_level</th>\n",
       "      <th>secondary_cleaner.state.floatbank5_a_air</th>\n",
       "      <th>secondary_cleaner.state.floatbank5_a_level</th>\n",
       "      <th>secondary_cleaner.state.floatbank5_b_air</th>\n",
       "      <th>secondary_cleaner.state.floatbank5_b_level</th>\n",
       "      <th>secondary_cleaner.state.floatbank6_a_air</th>\n",
       "      <th>secondary_cleaner.state.floatbank6_a_level</th>\n",
       "    </tr>\n",
       "  </thead>\n",
       "  <tbody>\n",
       "    <tr>\n",
       "      <th>0</th>\n",
       "      <td>2016-09-01 00:59:59</td>\n",
       "      <td>210.800909</td>\n",
       "      <td>14.993118</td>\n",
       "      <td>8.080000</td>\n",
       "      <td>1.005021</td>\n",
       "      <td>1398.981301</td>\n",
       "      <td>-500.225577</td>\n",
       "      <td>1399.144926</td>\n",
       "      <td>-499.919735</td>\n",
       "      <td>1400.102998</td>\n",
       "      <td>...</td>\n",
       "      <td>12.023554</td>\n",
       "      <td>-497.795834</td>\n",
       "      <td>8.016656</td>\n",
       "      <td>-501.289139</td>\n",
       "      <td>7.946562</td>\n",
       "      <td>-432.317850</td>\n",
       "      <td>4.872511</td>\n",
       "      <td>-500.037437</td>\n",
       "      <td>26.705889</td>\n",
       "      <td>-499.709414</td>\n",
       "    </tr>\n",
       "    <tr>\n",
       "      <th>1</th>\n",
       "      <td>2016-09-01 01:59:59</td>\n",
       "      <td>215.392455</td>\n",
       "      <td>14.987471</td>\n",
       "      <td>8.080000</td>\n",
       "      <td>0.990469</td>\n",
       "      <td>1398.777912</td>\n",
       "      <td>-500.057435</td>\n",
       "      <td>1398.055362</td>\n",
       "      <td>-499.778182</td>\n",
       "      <td>1396.151033</td>\n",
       "      <td>...</td>\n",
       "      <td>12.058140</td>\n",
       "      <td>-498.695773</td>\n",
       "      <td>8.130979</td>\n",
       "      <td>-499.634209</td>\n",
       "      <td>7.958270</td>\n",
       "      <td>-525.839648</td>\n",
       "      <td>4.878850</td>\n",
       "      <td>-500.162375</td>\n",
       "      <td>25.019940</td>\n",
       "      <td>-499.819438</td>\n",
       "    </tr>\n",
       "    <tr>\n",
       "      <th>2</th>\n",
       "      <td>2016-09-01 02:59:59</td>\n",
       "      <td>215.259946</td>\n",
       "      <td>12.884934</td>\n",
       "      <td>7.786667</td>\n",
       "      <td>0.996043</td>\n",
       "      <td>1398.493666</td>\n",
       "      <td>-500.868360</td>\n",
       "      <td>1398.860436</td>\n",
       "      <td>-499.764529</td>\n",
       "      <td>1398.075709</td>\n",
       "      <td>...</td>\n",
       "      <td>11.962366</td>\n",
       "      <td>-498.767484</td>\n",
       "      <td>8.096893</td>\n",
       "      <td>-500.827423</td>\n",
       "      <td>8.071056</td>\n",
       "      <td>-500.801673</td>\n",
       "      <td>4.905125</td>\n",
       "      <td>-499.828510</td>\n",
       "      <td>24.994862</td>\n",
       "      <td>-500.622559</td>\n",
       "    </tr>\n",
       "    <tr>\n",
       "      <th>3</th>\n",
       "      <td>2016-09-01 03:59:59</td>\n",
       "      <td>215.336236</td>\n",
       "      <td>12.006805</td>\n",
       "      <td>7.640000</td>\n",
       "      <td>0.863514</td>\n",
       "      <td>1399.618111</td>\n",
       "      <td>-498.863574</td>\n",
       "      <td>1397.440120</td>\n",
       "      <td>-499.211024</td>\n",
       "      <td>1400.129303</td>\n",
       "      <td>...</td>\n",
       "      <td>12.033091</td>\n",
       "      <td>-498.350935</td>\n",
       "      <td>8.074946</td>\n",
       "      <td>-499.474407</td>\n",
       "      <td>7.897085</td>\n",
       "      <td>-500.868509</td>\n",
       "      <td>4.931400</td>\n",
       "      <td>-499.963623</td>\n",
       "      <td>24.948919</td>\n",
       "      <td>-498.709987</td>\n",
       "    </tr>\n",
       "    <tr>\n",
       "      <th>4</th>\n",
       "      <td>2016-09-01 04:59:59</td>\n",
       "      <td>199.099327</td>\n",
       "      <td>10.682530</td>\n",
       "      <td>7.530000</td>\n",
       "      <td>0.805575</td>\n",
       "      <td>1401.268123</td>\n",
       "      <td>-500.808305</td>\n",
       "      <td>1398.128818</td>\n",
       "      <td>-499.504543</td>\n",
       "      <td>1402.172226</td>\n",
       "      <td>...</td>\n",
       "      <td>12.025367</td>\n",
       "      <td>-500.786497</td>\n",
       "      <td>8.054678</td>\n",
       "      <td>-500.397500</td>\n",
       "      <td>8.107890</td>\n",
       "      <td>-509.526725</td>\n",
       "      <td>4.957674</td>\n",
       "      <td>-500.360026</td>\n",
       "      <td>25.003331</td>\n",
       "      <td>-500.856333</td>\n",
       "    </tr>\n",
       "  </tbody>\n",
       "</table>\n",
       "<p>5 rows × 53 columns</p>\n",
       "</div>"
      ],
      "text/plain": [
       "                  date  primary_cleaner.input.sulfate  \\\n",
       "0  2016-09-01 00:59:59                     210.800909   \n",
       "1  2016-09-01 01:59:59                     215.392455   \n",
       "2  2016-09-01 02:59:59                     215.259946   \n",
       "3  2016-09-01 03:59:59                     215.336236   \n",
       "4  2016-09-01 04:59:59                     199.099327   \n",
       "\n",
       "   primary_cleaner.input.depressant  primary_cleaner.input.feed_size  \\\n",
       "0                         14.993118                         8.080000   \n",
       "1                         14.987471                         8.080000   \n",
       "2                         12.884934                         7.786667   \n",
       "3                         12.006805                         7.640000   \n",
       "4                         10.682530                         7.530000   \n",
       "\n",
       "   primary_cleaner.input.xanthate  primary_cleaner.state.floatbank8_a_air  \\\n",
       "0                        1.005021                             1398.981301   \n",
       "1                        0.990469                             1398.777912   \n",
       "2                        0.996043                             1398.493666   \n",
       "3                        0.863514                             1399.618111   \n",
       "4                        0.805575                             1401.268123   \n",
       "\n",
       "   primary_cleaner.state.floatbank8_a_level  \\\n",
       "0                               -500.225577   \n",
       "1                               -500.057435   \n",
       "2                               -500.868360   \n",
       "3                               -498.863574   \n",
       "4                               -500.808305   \n",
       "\n",
       "   primary_cleaner.state.floatbank8_b_air  \\\n",
       "0                             1399.144926   \n",
       "1                             1398.055362   \n",
       "2                             1398.860436   \n",
       "3                             1397.440120   \n",
       "4                             1398.128818   \n",
       "\n",
       "   primary_cleaner.state.floatbank8_b_level  \\\n",
       "0                               -499.919735   \n",
       "1                               -499.778182   \n",
       "2                               -499.764529   \n",
       "3                               -499.211024   \n",
       "4                               -499.504543   \n",
       "\n",
       "   primary_cleaner.state.floatbank8_c_air  ...  \\\n",
       "0                             1400.102998  ...   \n",
       "1                             1396.151033  ...   \n",
       "2                             1398.075709  ...   \n",
       "3                             1400.129303  ...   \n",
       "4                             1402.172226  ...   \n",
       "\n",
       "   secondary_cleaner.state.floatbank4_a_air  \\\n",
       "0                                 12.023554   \n",
       "1                                 12.058140   \n",
       "2                                 11.962366   \n",
       "3                                 12.033091   \n",
       "4                                 12.025367   \n",
       "\n",
       "   secondary_cleaner.state.floatbank4_a_level  \\\n",
       "0                                 -497.795834   \n",
       "1                                 -498.695773   \n",
       "2                                 -498.767484   \n",
       "3                                 -498.350935   \n",
       "4                                 -500.786497   \n",
       "\n",
       "   secondary_cleaner.state.floatbank4_b_air  \\\n",
       "0                                  8.016656   \n",
       "1                                  8.130979   \n",
       "2                                  8.096893   \n",
       "3                                  8.074946   \n",
       "4                                  8.054678   \n",
       "\n",
       "   secondary_cleaner.state.floatbank4_b_level  \\\n",
       "0                                 -501.289139   \n",
       "1                                 -499.634209   \n",
       "2                                 -500.827423   \n",
       "3                                 -499.474407   \n",
       "4                                 -500.397500   \n",
       "\n",
       "   secondary_cleaner.state.floatbank5_a_air  \\\n",
       "0                                  7.946562   \n",
       "1                                  7.958270   \n",
       "2                                  8.071056   \n",
       "3                                  7.897085   \n",
       "4                                  8.107890   \n",
       "\n",
       "   secondary_cleaner.state.floatbank5_a_level  \\\n",
       "0                                 -432.317850   \n",
       "1                                 -525.839648   \n",
       "2                                 -500.801673   \n",
       "3                                 -500.868509   \n",
       "4                                 -509.526725   \n",
       "\n",
       "   secondary_cleaner.state.floatbank5_b_air  \\\n",
       "0                                  4.872511   \n",
       "1                                  4.878850   \n",
       "2                                  4.905125   \n",
       "3                                  4.931400   \n",
       "4                                  4.957674   \n",
       "\n",
       "   secondary_cleaner.state.floatbank5_b_level  \\\n",
       "0                                 -500.037437   \n",
       "1                                 -500.162375   \n",
       "2                                 -499.828510   \n",
       "3                                 -499.963623   \n",
       "4                                 -500.360026   \n",
       "\n",
       "   secondary_cleaner.state.floatbank6_a_air  \\\n",
       "0                                 26.705889   \n",
       "1                                 25.019940   \n",
       "2                                 24.994862   \n",
       "3                                 24.948919   \n",
       "4                                 25.003331   \n",
       "\n",
       "   secondary_cleaner.state.floatbank6_a_level  \n",
       "0                                 -499.709414  \n",
       "1                                 -499.819438  \n",
       "2                                 -500.622559  \n",
       "3                                 -498.709987  \n",
       "4                                 -500.856333  \n",
       "\n",
       "[5 rows x 53 columns]"
      ]
     },
     "metadata": {},
     "output_type": "display_data"
    }
   ],
   "source": [
    "intro(gd_test)"
   ]
  },
  {
   "cell_type": "code",
   "execution_count": 228,
   "id": "8208a950",
   "metadata": {},
   "outputs": [
    {
     "name": "stdout",
     "output_type": "stream",
     "text": [
      "<class 'pandas.core.frame.DataFrame'>\n",
      "RangeIndex: 19439 entries, 0 to 19438\n",
      "Data columns (total 87 columns):\n",
      " #   Column                                              Non-Null Count  Dtype  \n",
      "---  ------                                              --------------  -----  \n",
      " 0   date                                                19439 non-null  object \n",
      " 1   final.output.concentrate_ag                         19438 non-null  float64\n",
      " 2   final.output.concentrate_pb                         19438 non-null  float64\n",
      " 3   final.output.concentrate_sol                        19228 non-null  float64\n",
      " 4   final.output.concentrate_au                         19439 non-null  float64\n",
      " 5   final.output.recovery                               19439 non-null  float64\n",
      " 6   final.output.tail_ag                                19438 non-null  float64\n",
      " 7   final.output.tail_pb                                19338 non-null  float64\n",
      " 8   final.output.tail_sol                               19433 non-null  float64\n",
      " 9   final.output.tail_au                                19439 non-null  float64\n",
      " 10  primary_cleaner.input.sulfate                       19415 non-null  float64\n",
      " 11  primary_cleaner.input.depressant                    19402 non-null  float64\n",
      " 12  primary_cleaner.input.feed_size                     19439 non-null  float64\n",
      " 13  primary_cleaner.input.xanthate                      19335 non-null  float64\n",
      " 14  primary_cleaner.output.concentrate_ag               19439 non-null  float64\n",
      " 15  primary_cleaner.output.concentrate_pb               19323 non-null  float64\n",
      " 16  primary_cleaner.output.concentrate_sol              19069 non-null  float64\n",
      " 17  primary_cleaner.output.concentrate_au               19439 non-null  float64\n",
      " 18  primary_cleaner.output.tail_ag                      19435 non-null  float64\n",
      " 19  primary_cleaner.output.tail_pb                      19418 non-null  float64\n",
      " 20  primary_cleaner.output.tail_sol                     19377 non-null  float64\n",
      " 21  primary_cleaner.output.tail_au                      19439 non-null  float64\n",
      " 22  primary_cleaner.state.floatbank8_a_air              19435 non-null  float64\n",
      " 23  primary_cleaner.state.floatbank8_a_level            19438 non-null  float64\n",
      " 24  primary_cleaner.state.floatbank8_b_air              19435 non-null  float64\n",
      " 25  primary_cleaner.state.floatbank8_b_level            19438 non-null  float64\n",
      " 26  primary_cleaner.state.floatbank8_c_air              19437 non-null  float64\n",
      " 27  primary_cleaner.state.floatbank8_c_level            19438 non-null  float64\n",
      " 28  primary_cleaner.state.floatbank8_d_air              19436 non-null  float64\n",
      " 29  primary_cleaner.state.floatbank8_d_level            19438 non-null  float64\n",
      " 30  rougher.calculation.sulfate_to_au_concentrate       19437 non-null  float64\n",
      " 31  rougher.calculation.floatbank10_sulfate_to_au_feed  19437 non-null  float64\n",
      " 32  rougher.calculation.floatbank11_sulfate_to_au_feed  19437 non-null  float64\n",
      " 33  rougher.calculation.au_pb_ratio                     19439 non-null  float64\n",
      " 34  rougher.input.feed_ag                               19439 non-null  float64\n",
      " 35  rougher.input.feed_pb                               19339 non-null  float64\n",
      " 36  rougher.input.feed_rate                             19428 non-null  float64\n",
      " 37  rougher.input.feed_size                             19294 non-null  float64\n",
      " 38  rougher.input.feed_sol                              19340 non-null  float64\n",
      " 39  rougher.input.feed_au                               19439 non-null  float64\n",
      " 40  rougher.input.floatbank10_sulfate                   19405 non-null  float64\n",
      " 41  rougher.input.floatbank10_xanthate                  19431 non-null  float64\n",
      " 42  rougher.input.floatbank11_sulfate                   19395 non-null  float64\n",
      " 43  rougher.input.floatbank11_xanthate                  18986 non-null  float64\n",
      " 44  rougher.output.concentrate_ag                       19439 non-null  float64\n",
      " 45  rougher.output.concentrate_pb                       19439 non-null  float64\n",
      " 46  rougher.output.concentrate_sol                      19416 non-null  float64\n",
      " 47  rougher.output.concentrate_au                       19439 non-null  float64\n",
      " 48  rougher.output.recovery                             19439 non-null  float64\n",
      " 49  rougher.output.tail_ag                              19438 non-null  float64\n",
      " 50  rougher.output.tail_pb                              19439 non-null  float64\n",
      " 51  rougher.output.tail_sol                             19439 non-null  float64\n",
      " 52  rougher.output.tail_au                              19439 non-null  float64\n",
      " 53  rougher.state.floatbank10_a_air                     19438 non-null  float64\n",
      " 54  rougher.state.floatbank10_a_level                   19438 non-null  float64\n",
      " 55  rougher.state.floatbank10_b_air                     19438 non-null  float64\n",
      " 56  rougher.state.floatbank10_b_level                   19438 non-null  float64\n",
      " 57  rougher.state.floatbank10_c_air                     19438 non-null  float64\n",
      " 58  rougher.state.floatbank10_c_level                   19438 non-null  float64\n",
      " 59  rougher.state.floatbank10_d_air                     19439 non-null  float64\n",
      " 60  rougher.state.floatbank10_d_level                   19439 non-null  float64\n",
      " 61  rougher.state.floatbank10_e_air                     19003 non-null  float64\n",
      " 62  rougher.state.floatbank10_e_level                   19439 non-null  float64\n",
      " 63  rougher.state.floatbank10_f_air                     19439 non-null  float64\n",
      " 64  rougher.state.floatbank10_f_level                   19439 non-null  float64\n",
      " 65  secondary_cleaner.output.tail_ag                    19437 non-null  float64\n",
      " 66  secondary_cleaner.output.tail_pb                    19427 non-null  float64\n",
      " 67  secondary_cleaner.output.tail_sol                   17691 non-null  float64\n",
      " 68  secondary_cleaner.output.tail_au                    19439 non-null  float64\n",
      " 69  secondary_cleaner.state.floatbank2_a_air            19219 non-null  float64\n",
      " 70  secondary_cleaner.state.floatbank2_a_level          19438 non-null  float64\n",
      " 71  secondary_cleaner.state.floatbank2_b_air            19416 non-null  float64\n",
      " 72  secondary_cleaner.state.floatbank2_b_level          19438 non-null  float64\n",
      " 73  secondary_cleaner.state.floatbank3_a_air            19426 non-null  float64\n",
      " 74  secondary_cleaner.state.floatbank3_a_level          19438 non-null  float64\n",
      " 75  secondary_cleaner.state.floatbank3_b_air            19438 non-null  float64\n",
      " 76  secondary_cleaner.state.floatbank3_b_level          19438 non-null  float64\n",
      " 77  secondary_cleaner.state.floatbank4_a_air            19433 non-null  float64\n",
      " 78  secondary_cleaner.state.floatbank4_a_level          19438 non-null  float64\n",
      " 79  secondary_cleaner.state.floatbank4_b_air            19438 non-null  float64\n",
      " 80  secondary_cleaner.state.floatbank4_b_level          19438 non-null  float64\n",
      " 81  secondary_cleaner.state.floatbank5_a_air            19438 non-null  float64\n",
      " 82  secondary_cleaner.state.floatbank5_a_level          19438 non-null  float64\n",
      " 83  secondary_cleaner.state.floatbank5_b_air            19438 non-null  float64\n",
      " 84  secondary_cleaner.state.floatbank5_b_level          19438 non-null  float64\n",
      " 85  secondary_cleaner.state.floatbank6_a_air            19437 non-null  float64\n",
      " 86  secondary_cleaner.state.floatbank6_a_level          19438 non-null  float64\n",
      "dtypes: float64(86), object(1)\n",
      "memory usage: 12.9+ MB\n",
      "None\n"
     ]
    },
    {
     "data": {
      "text/html": [
       "<div>\n",
       "<style scoped>\n",
       "    .dataframe tbody tr th:only-of-type {\n",
       "        vertical-align: middle;\n",
       "    }\n",
       "\n",
       "    .dataframe tbody tr th {\n",
       "        vertical-align: top;\n",
       "    }\n",
       "\n",
       "    .dataframe thead th {\n",
       "        text-align: right;\n",
       "    }\n",
       "</style>\n",
       "<table border=\"1\" class=\"dataframe\">\n",
       "  <thead>\n",
       "    <tr style=\"text-align: right;\">\n",
       "      <th></th>\n",
       "      <th>date</th>\n",
       "      <th>final.output.concentrate_ag</th>\n",
       "      <th>final.output.concentrate_pb</th>\n",
       "      <th>final.output.concentrate_sol</th>\n",
       "      <th>final.output.concentrate_au</th>\n",
       "      <th>final.output.recovery</th>\n",
       "      <th>final.output.tail_ag</th>\n",
       "      <th>final.output.tail_pb</th>\n",
       "      <th>final.output.tail_sol</th>\n",
       "      <th>final.output.tail_au</th>\n",
       "      <th>...</th>\n",
       "      <th>secondary_cleaner.state.floatbank4_a_air</th>\n",
       "      <th>secondary_cleaner.state.floatbank4_a_level</th>\n",
       "      <th>secondary_cleaner.state.floatbank4_b_air</th>\n",
       "      <th>secondary_cleaner.state.floatbank4_b_level</th>\n",
       "      <th>secondary_cleaner.state.floatbank5_a_air</th>\n",
       "      <th>secondary_cleaner.state.floatbank5_a_level</th>\n",
       "      <th>secondary_cleaner.state.floatbank5_b_air</th>\n",
       "      <th>secondary_cleaner.state.floatbank5_b_level</th>\n",
       "      <th>secondary_cleaner.state.floatbank6_a_air</th>\n",
       "      <th>secondary_cleaner.state.floatbank6_a_level</th>\n",
       "    </tr>\n",
       "  </thead>\n",
       "  <tbody>\n",
       "    <tr>\n",
       "      <th>0</th>\n",
       "      <td>2016-01-15 00:00:00</td>\n",
       "      <td>6.055403</td>\n",
       "      <td>9.889648</td>\n",
       "      <td>5.507324</td>\n",
       "      <td>42.192020</td>\n",
       "      <td>70.541216</td>\n",
       "      <td>10.411962</td>\n",
       "      <td>0.895447</td>\n",
       "      <td>16.904297</td>\n",
       "      <td>2.143149</td>\n",
       "      <td>...</td>\n",
       "      <td>14.016835</td>\n",
       "      <td>-502.488007</td>\n",
       "      <td>12.099931</td>\n",
       "      <td>-504.715942</td>\n",
       "      <td>9.925633</td>\n",
       "      <td>-498.310211</td>\n",
       "      <td>8.079666</td>\n",
       "      <td>-500.470978</td>\n",
       "      <td>14.151341</td>\n",
       "      <td>-605.841980</td>\n",
       "    </tr>\n",
       "    <tr>\n",
       "      <th>1</th>\n",
       "      <td>2016-01-15 01:00:00</td>\n",
       "      <td>6.029369</td>\n",
       "      <td>9.968944</td>\n",
       "      <td>5.257781</td>\n",
       "      <td>42.701629</td>\n",
       "      <td>69.266198</td>\n",
       "      <td>10.462676</td>\n",
       "      <td>0.927452</td>\n",
       "      <td>16.634514</td>\n",
       "      <td>2.224930</td>\n",
       "      <td>...</td>\n",
       "      <td>13.992281</td>\n",
       "      <td>-505.503262</td>\n",
       "      <td>11.950531</td>\n",
       "      <td>-501.331529</td>\n",
       "      <td>10.039245</td>\n",
       "      <td>-500.169983</td>\n",
       "      <td>7.984757</td>\n",
       "      <td>-500.582168</td>\n",
       "      <td>13.998353</td>\n",
       "      <td>-599.787184</td>\n",
       "    </tr>\n",
       "    <tr>\n",
       "      <th>2</th>\n",
       "      <td>2016-01-15 02:00:00</td>\n",
       "      <td>6.055926</td>\n",
       "      <td>10.213995</td>\n",
       "      <td>5.383759</td>\n",
       "      <td>42.657501</td>\n",
       "      <td>68.116445</td>\n",
       "      <td>10.507046</td>\n",
       "      <td>0.953716</td>\n",
       "      <td>16.208849</td>\n",
       "      <td>2.257889</td>\n",
       "      <td>...</td>\n",
       "      <td>14.015015</td>\n",
       "      <td>-502.520901</td>\n",
       "      <td>11.912783</td>\n",
       "      <td>-501.133383</td>\n",
       "      <td>10.070913</td>\n",
       "      <td>-500.129135</td>\n",
       "      <td>8.013877</td>\n",
       "      <td>-500.517572</td>\n",
       "      <td>14.028663</td>\n",
       "      <td>-601.427363</td>\n",
       "    </tr>\n",
       "    <tr>\n",
       "      <th>3</th>\n",
       "      <td>2016-01-15 03:00:00</td>\n",
       "      <td>6.047977</td>\n",
       "      <td>9.977019</td>\n",
       "      <td>4.858634</td>\n",
       "      <td>42.689819</td>\n",
       "      <td>68.347543</td>\n",
       "      <td>10.422762</td>\n",
       "      <td>0.883763</td>\n",
       "      <td>16.532835</td>\n",
       "      <td>2.146849</td>\n",
       "      <td>...</td>\n",
       "      <td>14.036510</td>\n",
       "      <td>-500.857308</td>\n",
       "      <td>11.999550</td>\n",
       "      <td>-501.193686</td>\n",
       "      <td>9.970366</td>\n",
       "      <td>-499.201640</td>\n",
       "      <td>7.977324</td>\n",
       "      <td>-500.255908</td>\n",
       "      <td>14.005551</td>\n",
       "      <td>-599.996129</td>\n",
       "    </tr>\n",
       "    <tr>\n",
       "      <th>4</th>\n",
       "      <td>2016-01-15 04:00:00</td>\n",
       "      <td>6.148599</td>\n",
       "      <td>10.142511</td>\n",
       "      <td>4.939416</td>\n",
       "      <td>42.774141</td>\n",
       "      <td>66.927016</td>\n",
       "      <td>10.360302</td>\n",
       "      <td>0.792826</td>\n",
       "      <td>16.525686</td>\n",
       "      <td>2.055292</td>\n",
       "      <td>...</td>\n",
       "      <td>14.027298</td>\n",
       "      <td>-499.838632</td>\n",
       "      <td>11.953070</td>\n",
       "      <td>-501.053894</td>\n",
       "      <td>9.925709</td>\n",
       "      <td>-501.686727</td>\n",
       "      <td>7.894242</td>\n",
       "      <td>-500.356035</td>\n",
       "      <td>13.996647</td>\n",
       "      <td>-601.496691</td>\n",
       "    </tr>\n",
       "  </tbody>\n",
       "</table>\n",
       "<p>5 rows × 87 columns</p>\n",
       "</div>"
      ],
      "text/plain": [
       "                  date  final.output.concentrate_ag  \\\n",
       "0  2016-01-15 00:00:00                     6.055403   \n",
       "1  2016-01-15 01:00:00                     6.029369   \n",
       "2  2016-01-15 02:00:00                     6.055926   \n",
       "3  2016-01-15 03:00:00                     6.047977   \n",
       "4  2016-01-15 04:00:00                     6.148599   \n",
       "\n",
       "   final.output.concentrate_pb  final.output.concentrate_sol  \\\n",
       "0                     9.889648                      5.507324   \n",
       "1                     9.968944                      5.257781   \n",
       "2                    10.213995                      5.383759   \n",
       "3                     9.977019                      4.858634   \n",
       "4                    10.142511                      4.939416   \n",
       "\n",
       "   final.output.concentrate_au  final.output.recovery  final.output.tail_ag  \\\n",
       "0                    42.192020              70.541216             10.411962   \n",
       "1                    42.701629              69.266198             10.462676   \n",
       "2                    42.657501              68.116445             10.507046   \n",
       "3                    42.689819              68.347543             10.422762   \n",
       "4                    42.774141              66.927016             10.360302   \n",
       "\n",
       "   final.output.tail_pb  final.output.tail_sol  final.output.tail_au  ...  \\\n",
       "0              0.895447              16.904297              2.143149  ...   \n",
       "1              0.927452              16.634514              2.224930  ...   \n",
       "2              0.953716              16.208849              2.257889  ...   \n",
       "3              0.883763              16.532835              2.146849  ...   \n",
       "4              0.792826              16.525686              2.055292  ...   \n",
       "\n",
       "   secondary_cleaner.state.floatbank4_a_air  \\\n",
       "0                                 14.016835   \n",
       "1                                 13.992281   \n",
       "2                                 14.015015   \n",
       "3                                 14.036510   \n",
       "4                                 14.027298   \n",
       "\n",
       "   secondary_cleaner.state.floatbank4_a_level  \\\n",
       "0                                 -502.488007   \n",
       "1                                 -505.503262   \n",
       "2                                 -502.520901   \n",
       "3                                 -500.857308   \n",
       "4                                 -499.838632   \n",
       "\n",
       "   secondary_cleaner.state.floatbank4_b_air  \\\n",
       "0                                 12.099931   \n",
       "1                                 11.950531   \n",
       "2                                 11.912783   \n",
       "3                                 11.999550   \n",
       "4                                 11.953070   \n",
       "\n",
       "   secondary_cleaner.state.floatbank4_b_level  \\\n",
       "0                                 -504.715942   \n",
       "1                                 -501.331529   \n",
       "2                                 -501.133383   \n",
       "3                                 -501.193686   \n",
       "4                                 -501.053894   \n",
       "\n",
       "   secondary_cleaner.state.floatbank5_a_air  \\\n",
       "0                                  9.925633   \n",
       "1                                 10.039245   \n",
       "2                                 10.070913   \n",
       "3                                  9.970366   \n",
       "4                                  9.925709   \n",
       "\n",
       "   secondary_cleaner.state.floatbank5_a_level  \\\n",
       "0                                 -498.310211   \n",
       "1                                 -500.169983   \n",
       "2                                 -500.129135   \n",
       "3                                 -499.201640   \n",
       "4                                 -501.686727   \n",
       "\n",
       "   secondary_cleaner.state.floatbank5_b_air  \\\n",
       "0                                  8.079666   \n",
       "1                                  7.984757   \n",
       "2                                  8.013877   \n",
       "3                                  7.977324   \n",
       "4                                  7.894242   \n",
       "\n",
       "   secondary_cleaner.state.floatbank5_b_level  \\\n",
       "0                                 -500.470978   \n",
       "1                                 -500.582168   \n",
       "2                                 -500.517572   \n",
       "3                                 -500.255908   \n",
       "4                                 -500.356035   \n",
       "\n",
       "   secondary_cleaner.state.floatbank6_a_air  \\\n",
       "0                                 14.151341   \n",
       "1                                 13.998353   \n",
       "2                                 14.028663   \n",
       "3                                 14.005551   \n",
       "4                                 13.996647   \n",
       "\n",
       "   secondary_cleaner.state.floatbank6_a_level  \n",
       "0                                 -605.841980  \n",
       "1                                 -599.787184  \n",
       "2                                 -601.427363  \n",
       "3                                 -599.996129  \n",
       "4                                 -601.496691  \n",
       "\n",
       "[5 rows x 87 columns]"
      ]
     },
     "metadata": {},
     "output_type": "display_data"
    }
   ],
   "source": [
    "intro(gd_full)"
   ]
  },
  {
   "cell_type": "markdown",
   "id": "eaa567e2",
   "metadata": {},
   "source": [
    "В данных видим много различных пропусков и меньше колонок в тестовой выборке."
   ]
  },
  {
   "cell_type": "markdown",
   "id": "fb88f6bc",
   "metadata": {},
   "source": [
    "### Проанализируйте признаки, недоступные в тестовой выборке. Что это за параметры? К какому типу относятся?"
   ]
  },
  {
   "cell_type": "code",
   "execution_count": 229,
   "id": "ff20fa0b",
   "metadata": {
    "scrolled": true
   },
   "outputs": [
    {
     "name": "stdout",
     "output_type": "stream",
     "text": [
      "<class 'pandas.core.frame.DataFrame'>\n",
      "RangeIndex: 14149 entries, 0 to 14148\n",
      "Data columns (total 34 columns):\n",
      " #   Column                                              Non-Null Count  Dtype  \n",
      "---  ------                                              --------------  -----  \n",
      " 0   final.output.tail_au                                14149 non-null  float64\n",
      " 1   rougher.output.concentrate_sol                      14127 non-null  float64\n",
      " 2   rougher.calculation.floatbank10_sulfate_to_au_feed  14148 non-null  float64\n",
      " 3   primary_cleaner.output.concentrate_au               14149 non-null  float64\n",
      " 4   rougher.output.concentrate_au                       14149 non-null  float64\n",
      " 5   final.output.concentrate_sol                        13938 non-null  float64\n",
      " 6   rougher.output.tail_pb                              14149 non-null  float64\n",
      " 7   secondary_cleaner.output.tail_au                    14149 non-null  float64\n",
      " 8   primary_cleaner.output.tail_au                      14149 non-null  float64\n",
      " 9   primary_cleaner.output.tail_pb                      14134 non-null  float64\n",
      " 10  rougher.output.tail_au                              14149 non-null  float64\n",
      " 11  rougher.calculation.au_pb_ratio                     14149 non-null  float64\n",
      " 12  final.output.recovery                               14149 non-null  float64\n",
      " 13  rougher.output.tail_ag                              14148 non-null  float64\n",
      " 14  secondary_cleaner.output.tail_ag                    14147 non-null  float64\n",
      " 15  rougher.calculation.sulfate_to_au_concentrate       14148 non-null  float64\n",
      " 16  final.output.concentrate_au                         14149 non-null  float64\n",
      " 17  primary_cleaner.output.tail_ag                      14148 non-null  float64\n",
      " 18  secondary_cleaner.output.tail_sol                   12544 non-null  float64\n",
      " 19  rougher.output.tail_sol                             14149 non-null  float64\n",
      " 20  final.output.tail_sol                               14144 non-null  float64\n",
      " 21  primary_cleaner.output.concentrate_ag               14149 non-null  float64\n",
      " 22  final.output.tail_pb                                14049 non-null  float64\n",
      " 23  rougher.output.concentrate_ag                       14149 non-null  float64\n",
      " 24  secondary_cleaner.output.tail_pb                    14139 non-null  float64\n",
      " 25  primary_cleaner.output.concentrate_pb               14063 non-null  float64\n",
      " 26  final.output.concentrate_pb                         14148 non-null  float64\n",
      " 27  rougher.output.recovery                             14149 non-null  float64\n",
      " 28  rougher.calculation.floatbank11_sulfate_to_au_feed  14148 non-null  float64\n",
      " 29  rougher.output.concentrate_pb                       14149 non-null  float64\n",
      " 30  primary_cleaner.output.concentrate_sol              13863 non-null  float64\n",
      " 31  final.output.tail_ag                                14149 non-null  float64\n",
      " 32  final.output.concentrate_ag                         14148 non-null  float64\n",
      " 33  primary_cleaner.output.tail_sol                     14103 non-null  float64\n",
      "dtypes: float64(34)\n",
      "memory usage: 3.7 MB\n",
      "None\n"
     ]
    }
   ],
   "source": [
    "missing_columns = set(gd_train.columns) - set(gd_test.columns)\n",
    "print(gd_train[missing_columns].info())"
   ]
  },
  {
   "cell_type": "markdown",
   "id": "dd4ec537",
   "metadata": {},
   "source": [
    "Отсутсвуют целевые признаки, что абсолютно верно и должно быть.\n",
    "Кроме этого, отсутвуют столбцы с \"output\", т.е. параметры готового продукта, что тоже неудивительно, ведь это финальные цифры, которые рассчитываются позже. "
   ]
  },
  {
   "cell_type": "markdown",
   "id": "43412b7d",
   "metadata": {},
   "source": [
    "### Проведите предобработку данных."
   ]
  },
  {
   "cell_type": "markdown",
   "id": "56b6021e",
   "metadata": {},
   "source": [
    "Добавляем в тестовую выборку целевые показатели"
   ]
  },
  {
   "cell_type": "code",
   "execution_count": 230,
   "id": "c21cda61",
   "metadata": {},
   "outputs": [
    {
     "name": "stdout",
     "output_type": "stream",
     "text": [
      "(5290, 53)\n",
      "(5290, 55)\n"
     ]
    }
   ],
   "source": [
    "print(gd_test.shape)\n",
    "gd_test = gd_test.merge(gd_full[DATA_TARGET], on='date', how='left')\n",
    "print(gd_test.shape)"
   ]
  },
  {
   "cell_type": "markdown",
   "id": "ad447331",
   "metadata": {},
   "source": [
    "Удаляем пропуски в целевых показателях"
   ]
  },
  {
   "cell_type": "code",
   "execution_count": 231,
   "id": "b16269e0",
   "metadata": {},
   "outputs": [],
   "source": [
    "gd_train = gd_train.dropna(subset=TARGETS)\n",
    "gd_test = gd_test.dropna(subset=TARGETS)"
   ]
  },
  {
   "cell_type": "markdown",
   "id": "e2108321",
   "metadata": {},
   "source": [
    "Заполняем пропуски ближайшими значениями, ведь в ходе преобразований различий у материалов не так много и следующее значение мало отличается от предыдущего. "
   ]
  },
  {
   "cell_type": "code",
   "execution_count": 232,
   "id": "6cc08a0b",
   "metadata": {},
   "outputs": [],
   "source": [
    "gd_train = gd_train.ffill()\n",
    "gd_test = gd_test.ffill()\n",
    "gd_full = gd_full.ffill()"
   ]
  },
  {
   "cell_type": "markdown",
   "id": "d889a198",
   "metadata": {},
   "source": [
    "### Проверьте, что эффективность обогащения рассчитана правильно. Вычислите её на обучающей выборке для признака rougher.output.recovery. Найдите MAE между вашими расчётами и значением признака. Опишите выводы."
   ]
  },
  {
   "cell_type": "markdown",
   "id": "ad659fd3",
   "metadata": {},
   "source": [
    "Итак, надо подставить в формулу расчёта эффективности необходимые числа из обучающей выборки."
   ]
  },
  {
   "cell_type": "markdown",
   "id": "4b70d93d",
   "metadata": {},
   "source": [
    "C — доля золота в концентрате после флотации/очистки;"
   ]
  },
  {
   "cell_type": "code",
   "execution_count": 233,
   "id": "9bc719b1",
   "metadata": {},
   "outputs": [],
   "source": [
    "C = gd_train[\"rougher.output.concentrate_au\"]"
   ]
  },
  {
   "cell_type": "markdown",
   "id": "0ad3f827",
   "metadata": {},
   "source": [
    "F — доля золота в сырье/концентрате до флотации/очистки;"
   ]
  },
  {
   "cell_type": "code",
   "execution_count": 234,
   "id": "d8bf2486",
   "metadata": {},
   "outputs": [],
   "source": [
    "F = gd_train[\"rougher.input.feed_au\"]"
   ]
  },
  {
   "cell_type": "markdown",
   "id": "23e71b28",
   "metadata": {},
   "source": [
    "T — доля золота в отвальных хвостах после флотации/очистки."
   ]
  },
  {
   "cell_type": "code",
   "execution_count": 235,
   "id": "ec5e3195",
   "metadata": {},
   "outputs": [],
   "source": [
    "T = gd_train[\"rougher.output.tail_au\"]"
   ]
  },
  {
   "cell_type": "code",
   "execution_count": 236,
   "id": "e7e10859",
   "metadata": {},
   "outputs": [],
   "source": [
    "recovery = (C * (F - T)) / (F * (C - T)) * 100"
   ]
  },
  {
   "cell_type": "code",
   "execution_count": 237,
   "id": "48786b28",
   "metadata": {},
   "outputs": [
    {
     "name": "stdout",
     "output_type": "stream",
     "text": [
      "9.73512347450521e-15\n"
     ]
    }
   ],
   "source": [
    "mae = mean_absolute_error(gd_train['rougher.output.recovery'], recovery)\n",
    "print(mae)"
   ]
  },
  {
   "cell_type": "markdown",
   "id": "f3b3fb96",
   "metadata": {},
   "source": [
    "Итоговая ошибка невероятна мала, поэтому можно считать, что результаты в колонке следует считать достоверными."
   ]
  },
  {
   "cell_type": "markdown",
   "id": "f1ddb49e",
   "metadata": {},
   "source": [
    "## Проанализируйте данные"
   ]
  },
  {
   "cell_type": "markdown",
   "id": "2f823e15",
   "metadata": {},
   "source": [
    "### Посмотрите, как меняется концентрация металлов (Au, Ag, Pb) на различных этапах очистки. Опишите выводы."
   ]
  },
  {
   "cell_type": "code",
   "execution_count": 238,
   "id": "362e7f17",
   "metadata": {},
   "outputs": [
    {
     "data": {
      "image/png": "[encoded data removed]",
      "text/plain": [
       "<Figure size 576x720 with 3 Axes>"
      ]
     },
     "metadata": {},
     "output_type": "display_data"
    }
   ],
   "source": [
    "fig, ax = plt.subplots(len(METALS), 1, figsize=(8,10))\n",
    "\n",
    "for index in range(len(METALS)):\n",
    "    \n",
    "    metal = METALS[index]\n",
    "    metal_concentrate = ['{}_{}'.format(step, metal) for step in CONCENTRATE]\n",
    "    metal_full = gd_full[metal_concentrate]\n",
    "    \n",
    "    for stage in metal_full:\n",
    "        \n",
    "        ax[index].hist(metal_full[stage], bins=200, alpha=0.5, label = stage)\n",
    "        ax[index].set(title=metal, xlabel='Концентрация', ylabel='Количество результатов')\n",
    "        ax[index].legend(loc='best', fontsize='x-small')\n",
    "        fig.tight_layout()"
   ]
  },
  {
   "cell_type": "markdown",
   "id": "f6ffb46d",
   "metadata": {},
   "source": [
    "У золота логичный постепенный рост концентрации, а вот у остальных металлов такой логики уже нет. Связано это с тем, что золото, как самый дорогой металл, очевидно - цель манипуляций, остальные металлы, если не побочный продукт, то явно не главная цель."
   ]
  },
  {
   "cell_type": "markdown",
   "id": "2389e42f",
   "metadata": {},
   "source": [
    "### Сравните распределения размеров гранул сырья на обучающей и тестовой выборках. Если распределения сильно отличаются друг от друга, оценка модели будет неправильной."
   ]
  },
  {
   "cell_type": "code",
   "execution_count": 239,
   "id": "91e3103d",
   "metadata": {},
   "outputs": [
    {
     "data": {
      "image/png": "[encoded data removed]",
      "text/plain": [
       "<Figure size 864x1152 with 2 Axes>"
      ]
     },
     "metadata": {},
     "output_type": "display_data"
    }
   ],
   "source": [
    "for index in range(len(FEED_SIZE)):\n",
    "    feed=FEED_SIZE[index]\n",
    "    pylab.subplot (2, 1, index+1)   \n",
    "    g=sns.kdeplot(data=gd_train,x=feed, color='green', fill=True, label=('gd_train',feed))\n",
    "    sns.kdeplot(data=gd_test,x=feed,color='red', fill=True, label=('gd_test',feed))\n",
    "    g.set(xlabel='Размер гранул', ylabel='Плотность')\n",
    "    g.legend(loc='best', fontsize=12, facecolor = 'yellow')\n",
    "    sns.set(rc={'figure.figsize':(12,16)})"
   ]
  },
  {
   "cell_type": "markdown",
   "id": "ad9bb688",
   "metadata": {},
   "source": [
    "Практически идеальное совпадение, значит модель можно считать правильной."
   ]
  },
  {
   "cell_type": "markdown",
   "id": "949fc1d3",
   "metadata": {},
   "source": [
    "### Исследуйте суммарную концентрацию всех веществ на разных стадиях: в сырье, в черновом и финальном концентратах. "
   ]
  },
  {
   "cell_type": "code",
   "execution_count": 240,
   "id": "90cc81fe",
   "metadata": {},
   "outputs": [
    {
     "data": {
      "image/png": "[encoded data removed]",
      "text/plain": [
       "<Figure size 864x1152 with 1 Axes>"
      ]
     },
     "metadata": {},
     "output_type": "display_data"
    }
   ],
   "source": [
    "plt.xlabel('Суммарная концентрация')\n",
    "plt.ylabel('Количество результатов')\n",
    "\n",
    "for index in range(len(CONCENTRATE)):\n",
    "    \n",
    "    stage = CONCENTRATE[index]\n",
    "    gd_full[stage]=0\n",
    "    \n",
    "    for metal in METALS+['sol']:\n",
    "        \n",
    "        gd_full[stage] += gd_full['{}_{}'.format(stage, metal)]\n",
    "        \n",
    "    plt.hist(gd_full[stage], bins=200, alpha=0.5, label = stage)\n",
    "    plt.legend(loc='best', fontsize='small')"
   ]
  },
  {
   "cell_type": "markdown",
   "id": "1f340127",
   "metadata": {},
   "source": [
    "Как и на прошлых графиках видим столбцы в районе нуля. Скорее всего это аномальные выборосы. проверим на ящике с усами."
   ]
  },
  {
   "cell_type": "code",
   "execution_count": 241,
   "id": "5f28577d",
   "metadata": {},
   "outputs": [
    {
     "name": "stdout",
     "output_type": "stream",
     "text": [
      "count    19439.000000\n",
      "mean        57.320789\n",
      "std          7.212680\n",
      "min          0.040000\n",
      "25%         53.557679\n",
      "50%         57.594391\n",
      "75%         61.953459\n",
      "max         76.978947\n",
      "Name: rougher.input.feed, dtype: float64\n",
      "count    19439.000000\n",
      "mean        68.170865\n",
      "std         12.491279\n",
      "min          0.000000\n",
      "25%         66.012495\n",
      "50%         70.181495\n",
      "75%         74.356904\n",
      "max         88.140119\n",
      "Name: rougher.output.concentrate, dtype: float64\n",
      "count    19439.000000\n",
      "mean        60.764731\n",
      "std         10.017271\n",
      "min          0.000000\n",
      "25%         58.929364\n",
      "50%         62.497674\n",
      "75%         65.667336\n",
      "max         80.749343\n",
      "Name: primary_cleaner.output.concentrate, dtype: float64\n",
      "count    19439.000000\n",
      "mean        68.653624\n",
      "std          7.427536\n",
      "min          0.000000\n",
      "25%         67.932362\n",
      "50%         69.598444\n",
      "75%         71.368472\n",
      "max         80.210644\n",
      "Name: final.output.concentrate, dtype: float64\n"
     ]
    },
    {
     "data": {
      "image/png": "[encoded data removed]",
      "text/plain": [
       "<Figure size 432x1152 with 4 Axes>"
      ]
     },
     "metadata": {},
     "output_type": "display_data"
    }
   ],
   "source": [
    "fig, ax = plt.subplots(len(CONCENTRATE), 1, figsize=(6,16))\n",
    "\n",
    "for index in range(len(CONCENTRATE)):\n",
    "    \n",
    "    stage = CONCENTRATE[index]\n",
    "    gd_full[stage]=0\n",
    "    \n",
    "    for metal in METALS+['sol']:\n",
    "        \n",
    "        gd_full[stage] += gd_full['{}_{}'.format(stage, metal)]\n",
    "        \n",
    "    pylab.subplot (len(CONCENTRATE), 1, index+1)    \n",
    "    gd_full.boxplot(column=[stage])\n",
    "    print(gd_full[stage].describe())"
   ]
  },
  {
   "cell_type": "markdown",
   "id": "7f3dddf6",
   "metadata": {},
   "source": [
    "Везде минимальное значение - ноль и оно явно выделяется на фоне остального массива. Удалим это значение из стобцов наших выборок."
   ]
  },
  {
   "cell_type": "code",
   "execution_count": 242,
   "id": "ab271a74",
   "metadata": {},
   "outputs": [],
   "source": [
    "concentrate =[]\n",
    "\n",
    "for index in range(len(METALS)):\n",
    "    \n",
    "    metal = METALS[index]\n",
    "    \n",
    "    for stage in CONCENTRATE:\n",
    "        \n",
    "        concentrate.append('{}_{}'.format(stage, metal))\n",
    "        \n",
    "    for step in concentrate:\n",
    "        \n",
    "        gd_train = gd_train.loc[gd_train[step] > 0]"
   ]
  },
  {
   "cell_type": "code",
   "execution_count": 243,
   "id": "e30525a0",
   "metadata": {
    "scrolled": true
   },
   "outputs": [
    {
     "name": "stdout",
     "output_type": "stream",
     "text": [
      "<class 'pandas.core.frame.DataFrame'>\n",
      "Int64Index: 13720 entries, 0 to 14148\n",
      "Data columns (total 87 columns):\n",
      " #   Column                                              Non-Null Count  Dtype  \n",
      "---  ------                                              --------------  -----  \n",
      " 0   date                                                13720 non-null  object \n",
      " 1   final.output.concentrate_ag                         13720 non-null  float64\n",
      " 2   final.output.concentrate_pb                         13720 non-null  float64\n",
      " 3   final.output.concentrate_sol                        13720 non-null  float64\n",
      " 4   final.output.concentrate_au                         13720 non-null  float64\n",
      " 5   final.output.recovery                               13720 non-null  float64\n",
      " 6   final.output.tail_ag                                13720 non-null  float64\n",
      " 7   final.output.tail_pb                                13720 non-null  float64\n",
      " 8   final.output.tail_sol                               13720 non-null  float64\n",
      " 9   final.output.tail_au                                13720 non-null  float64\n",
      " 10  primary_cleaner.input.sulfate                       13720 non-null  float64\n",
      " 11  primary_cleaner.input.depressant                    13720 non-null  float64\n",
      " 12  primary_cleaner.input.feed_size                     13720 non-null  float64\n",
      " 13  primary_cleaner.input.xanthate                      13720 non-null  float64\n",
      " 14  primary_cleaner.output.concentrate_ag               13720 non-null  float64\n",
      " 15  primary_cleaner.output.concentrate_pb               13720 non-null  float64\n",
      " 16  primary_cleaner.output.concentrate_sol              13720 non-null  float64\n",
      " 17  primary_cleaner.output.concentrate_au               13720 non-null  float64\n",
      " 18  primary_cleaner.output.tail_ag                      13720 non-null  float64\n",
      " 19  primary_cleaner.output.tail_pb                      13720 non-null  float64\n",
      " 20  primary_cleaner.output.tail_sol                     13720 non-null  float64\n",
      " 21  primary_cleaner.output.tail_au                      13720 non-null  float64\n",
      " 22  primary_cleaner.state.floatbank8_a_air              13720 non-null  float64\n",
      " 23  primary_cleaner.state.floatbank8_a_level            13720 non-null  float64\n",
      " 24  primary_cleaner.state.floatbank8_b_air              13720 non-null  float64\n",
      " 25  primary_cleaner.state.floatbank8_b_level            13720 non-null  float64\n",
      " 26  primary_cleaner.state.floatbank8_c_air              13720 non-null  float64\n",
      " 27  primary_cleaner.state.floatbank8_c_level            13720 non-null  float64\n",
      " 28  primary_cleaner.state.floatbank8_d_air              13720 non-null  float64\n",
      " 29  primary_cleaner.state.floatbank8_d_level            13720 non-null  float64\n",
      " 30  rougher.calculation.sulfate_to_au_concentrate       13720 non-null  float64\n",
      " 31  rougher.calculation.floatbank10_sulfate_to_au_feed  13720 non-null  float64\n",
      " 32  rougher.calculation.floatbank11_sulfate_to_au_feed  13720 non-null  float64\n",
      " 33  rougher.calculation.au_pb_ratio                     13720 non-null  float64\n",
      " 34  rougher.input.feed_ag                               13720 non-null  float64\n",
      " 35  rougher.input.feed_pb                               13720 non-null  float64\n",
      " 36  rougher.input.feed_rate                             13720 non-null  float64\n",
      " 37  rougher.input.feed_size                             13720 non-null  float64\n",
      " 38  rougher.input.feed_sol                              13720 non-null  float64\n",
      " 39  rougher.input.feed_au                               13720 non-null  float64\n",
      " 40  rougher.input.floatbank10_sulfate                   13720 non-null  float64\n",
      " 41  rougher.input.floatbank10_xanthate                  13720 non-null  float64\n",
      " 42  rougher.input.floatbank11_sulfate                   13720 non-null  float64\n",
      " 43  rougher.input.floatbank11_xanthate                  13720 non-null  float64\n",
      " 44  rougher.output.concentrate_ag                       13720 non-null  float64\n",
      " 45  rougher.output.concentrate_pb                       13720 non-null  float64\n",
      " 46  rougher.output.concentrate_sol                      13720 non-null  float64\n",
      " 47  rougher.output.concentrate_au                       13720 non-null  float64\n",
      " 48  rougher.output.recovery                             13720 non-null  float64\n",
      " 49  rougher.output.tail_ag                              13720 non-null  float64\n",
      " 50  rougher.output.tail_pb                              13720 non-null  float64\n",
      " 51  rougher.output.tail_sol                             13720 non-null  float64\n",
      " 52  rougher.output.tail_au                              13720 non-null  float64\n",
      " 53  rougher.state.floatbank10_a_air                     13720 non-null  float64\n",
      " 54  rougher.state.floatbank10_a_level                   13720 non-null  float64\n",
      " 55  rougher.state.floatbank10_b_air                     13720 non-null  float64\n",
      " 56  rougher.state.floatbank10_b_level                   13720 non-null  float64\n",
      " 57  rougher.state.floatbank10_c_air                     13720 non-null  float64\n",
      " 58  rougher.state.floatbank10_c_level                   13720 non-null  float64\n",
      " 59  rougher.state.floatbank10_d_air                     13720 non-null  float64\n",
      " 60  rougher.state.floatbank10_d_level                   13720 non-null  float64\n",
      " 61  rougher.state.floatbank10_e_air                     13720 non-null  float64\n",
      " 62  rougher.state.floatbank10_e_level                   13720 non-null  float64\n",
      " 63  rougher.state.floatbank10_f_air                     13720 non-null  float64\n",
      " 64  rougher.state.floatbank10_f_level                   13720 non-null  float64\n",
      " 65  secondary_cleaner.output.tail_ag                    13720 non-null  float64\n",
      " 66  secondary_cleaner.output.tail_pb                    13720 non-null  float64\n",
      " 67  secondary_cleaner.output.tail_sol                   13720 non-null  float64\n",
      " 68  secondary_cleaner.output.tail_au                    13720 non-null  float64\n",
      " 69  secondary_cleaner.state.floatbank2_a_air            13720 non-null  float64\n",
      " 70  secondary_cleaner.state.floatbank2_a_level          13720 non-null  float64\n",
      " 71  secondary_cleaner.state.floatbank2_b_air            13720 non-null  float64\n",
      " 72  secondary_cleaner.state.floatbank2_b_level          13720 non-null  float64\n",
      " 73  secondary_cleaner.state.floatbank3_a_air            13720 non-null  float64\n",
      " 74  secondary_cleaner.state.floatbank3_a_level          13720 non-null  float64\n",
      " 75  secondary_cleaner.state.floatbank3_b_air            13720 non-null  float64\n",
      " 76  secondary_cleaner.state.floatbank3_b_level          13720 non-null  float64\n",
      " 77  secondary_cleaner.state.floatbank4_a_air            13720 non-null  float64\n",
      " 78  secondary_cleaner.state.floatbank4_a_level          13720 non-null  float64\n",
      " 79  secondary_cleaner.state.floatbank4_b_air            13720 non-null  float64\n",
      " 80  secondary_cleaner.state.floatbank4_b_level          13720 non-null  float64\n",
      " 81  secondary_cleaner.state.floatbank5_a_air            13720 non-null  float64\n",
      " 82  secondary_cleaner.state.floatbank5_a_level          13720 non-null  float64\n",
      " 83  secondary_cleaner.state.floatbank5_b_air            13720 non-null  float64\n",
      " 84  secondary_cleaner.state.floatbank5_b_level          13720 non-null  float64\n",
      " 85  secondary_cleaner.state.floatbank6_a_air            13720 non-null  float64\n",
      " 86  secondary_cleaner.state.floatbank6_a_level          13720 non-null  float64\n",
      "dtypes: float64(86), object(1)\n",
      "memory usage: 9.2+ MB\n"
     ]
    }
   ],
   "source": [
    "gd_train.info()"
   ]
  },
  {
   "cell_type": "markdown",
   "id": "e38d6295",
   "metadata": {},
   "source": [
    "Выкинули 603 строчки. Это около 4 процентов от первоначальной выборки. Вполне приемлимое значение."
   ]
  },
  {
   "cell_type": "markdown",
   "id": "5d2618d7",
   "metadata": {},
   "source": [
    "## Постройте модель"
   ]
  },
  {
   "cell_type": "markdown",
   "id": "82fdfedd",
   "metadata": {},
   "source": [
    "Выбрасываем из тренировочной выборке стобцы, которых нет в тестовой."
   ]
  },
  {
   "cell_type": "code",
   "execution_count": 244,
   "id": "fe19a00e",
   "metadata": {
    "scrolled": true
   },
   "outputs": [
    {
     "name": "stdout",
     "output_type": "stream",
     "text": [
      "<class 'pandas.core.frame.DataFrame'>\n",
      "Int64Index: 13720 entries, 0 to 14148\n",
      "Data columns (total 55 columns):\n",
      " #   Column                                      Non-Null Count  Dtype  \n",
      "---  ------                                      --------------  -----  \n",
      " 0   date                                        13720 non-null  object \n",
      " 1   final.output.recovery                       13720 non-null  float64\n",
      " 2   primary_cleaner.input.sulfate               13720 non-null  float64\n",
      " 3   primary_cleaner.input.depressant            13720 non-null  float64\n",
      " 4   primary_cleaner.input.feed_size             13720 non-null  float64\n",
      " 5   primary_cleaner.input.xanthate              13720 non-null  float64\n",
      " 6   primary_cleaner.state.floatbank8_a_air      13720 non-null  float64\n",
      " 7   primary_cleaner.state.floatbank8_a_level    13720 non-null  float64\n",
      " 8   primary_cleaner.state.floatbank8_b_air      13720 non-null  float64\n",
      " 9   primary_cleaner.state.floatbank8_b_level    13720 non-null  float64\n",
      " 10  primary_cleaner.state.floatbank8_c_air      13720 non-null  float64\n",
      " 11  primary_cleaner.state.floatbank8_c_level    13720 non-null  float64\n",
      " 12  primary_cleaner.state.floatbank8_d_air      13720 non-null  float64\n",
      " 13  primary_cleaner.state.floatbank8_d_level    13720 non-null  float64\n",
      " 14  rougher.input.feed_ag                       13720 non-null  float64\n",
      " 15  rougher.input.feed_pb                       13720 non-null  float64\n",
      " 16  rougher.input.feed_rate                     13720 non-null  float64\n",
      " 17  rougher.input.feed_size                     13720 non-null  float64\n",
      " 18  rougher.input.feed_sol                      13720 non-null  float64\n",
      " 19  rougher.input.feed_au                       13720 non-null  float64\n",
      " 20  rougher.input.floatbank10_sulfate           13720 non-null  float64\n",
      " 21  rougher.input.floatbank10_xanthate          13720 non-null  float64\n",
      " 22  rougher.input.floatbank11_sulfate           13720 non-null  float64\n",
      " 23  rougher.input.floatbank11_xanthate          13720 non-null  float64\n",
      " 24  rougher.output.recovery                     13720 non-null  float64\n",
      " 25  rougher.state.floatbank10_a_air             13720 non-null  float64\n",
      " 26  rougher.state.floatbank10_a_level           13720 non-null  float64\n",
      " 27  rougher.state.floatbank10_b_air             13720 non-null  float64\n",
      " 28  rougher.state.floatbank10_b_level           13720 non-null  float64\n",
      " 29  rougher.state.floatbank10_c_air             13720 non-null  float64\n",
      " 30  rougher.state.floatbank10_c_level           13720 non-null  float64\n",
      " 31  rougher.state.floatbank10_d_air             13720 non-null  float64\n",
      " 32  rougher.state.floatbank10_d_level           13720 non-null  float64\n",
      " 33  rougher.state.floatbank10_e_air             13720 non-null  float64\n",
      " 34  rougher.state.floatbank10_e_level           13720 non-null  float64\n",
      " 35  rougher.state.floatbank10_f_air             13720 non-null  float64\n",
      " 36  rougher.state.floatbank10_f_level           13720 non-null  float64\n",
      " 37  secondary_cleaner.state.floatbank2_a_air    13720 non-null  float64\n",
      " 38  secondary_cleaner.state.floatbank2_a_level  13720 non-null  float64\n",
      " 39  secondary_cleaner.state.floatbank2_b_air    13720 non-null  float64\n",
      " 40  secondary_cleaner.state.floatbank2_b_level  13720 non-null  float64\n",
      " 41  secondary_cleaner.state.floatbank3_a_air    13720 non-null  float64\n",
      " 42  secondary_cleaner.state.floatbank3_a_level  13720 non-null  float64\n",
      " 43  secondary_cleaner.state.floatbank3_b_air    13720 non-null  float64\n",
      " 44  secondary_cleaner.state.floatbank3_b_level  13720 non-null  float64\n",
      " 45  secondary_cleaner.state.floatbank4_a_air    13720 non-null  float64\n",
      " 46  secondary_cleaner.state.floatbank4_a_level  13720 non-null  float64\n",
      " 47  secondary_cleaner.state.floatbank4_b_air    13720 non-null  float64\n",
      " 48  secondary_cleaner.state.floatbank4_b_level  13720 non-null  float64\n",
      " 49  secondary_cleaner.state.floatbank5_a_air    13720 non-null  float64\n",
      " 50  secondary_cleaner.state.floatbank5_a_level  13720 non-null  float64\n",
      " 51  secondary_cleaner.state.floatbank5_b_air    13720 non-null  float64\n",
      " 52  secondary_cleaner.state.floatbank5_b_level  13720 non-null  float64\n",
      " 53  secondary_cleaner.state.floatbank6_a_air    13720 non-null  float64\n",
      " 54  secondary_cleaner.state.floatbank6_a_level  13720 non-null  float64\n",
      "dtypes: float64(54), object(1)\n",
      "memory usage: 5.9+ MB\n",
      "None\n"
     ]
    }
   ],
   "source": [
    "missing_columns = set(gd_train.columns) - set(gd_test.columns)\n",
    "gd_train = gd_train.drop(missing_columns, axis=1)\n",
    "print(gd_train.info())"
   ]
  },
  {
   "cell_type": "markdown",
   "id": "429526eb",
   "metadata": {},
   "source": [
    "### Напишите функцию для вычисления итоговой sMAPE."
   ]
  },
  {
   "cell_type": "code",
   "execution_count": 245,
   "id": "3ed6eef9",
   "metadata": {},
   "outputs": [],
   "source": [
    "def smape(target, predictions):\n",
    "    num = np.abs(target - predictions)\n",
    "    denom = (np.abs(target) + np.abs(predictions)) / 2 \n",
    "    return 1 / len(target) * np.sum(num/denom) * 100\n",
    "\n",
    "def final_smape(target, predictions):\n",
    "    target_rougher = target['rougher.output.recovery']\n",
    "    target_final = target['final.output.recovery']\n",
    "    \n",
    "    predictions_rougher = predictions[:, 0]\n",
    "    predictions_final = predictions[:, 1]\n",
    "    \n",
    "    rougher_smape = 0.25 * smape(target_rougher, predictions_rougher)\n",
    "    final_smape = 0.75 * smape(target_final, predictions_final)\n",
    "    \n",
    "    return  rougher_smape+final_smape"
   ]
  },
  {
   "cell_type": "code",
   "execution_count": 246,
   "id": "b5b8c797",
   "metadata": {},
   "outputs": [],
   "source": [
    "smape_scorer = make_scorer(final_smape, greater_is_better=False)"
   ]
  },
  {
   "cell_type": "markdown",
   "id": "39d40ac0",
   "metadata": {},
   "source": [
    "### Обучите разные модели и оцените их качество кросс-валидацией. Выберите лучшую модель и проверьте её на тестовой выборке. Опишите выводы."
   ]
  },
  {
   "cell_type": "markdown",
   "id": "acbe0402",
   "metadata": {},
   "source": [
    "Создадим необходимые выборки"
   ]
  },
  {
   "cell_type": "code",
   "execution_count": 247,
   "id": "6355c666",
   "metadata": {},
   "outputs": [],
   "source": [
    "features_train = gd_train.drop(DATA_TARGET,  axis=1)\n",
    "target_train = gd_train[TARGETS]\n",
    "features_test = gd_test.drop(DATA_TARGET,  axis=1)\n",
    "target_test = gd_test[TARGETS]"
   ]
  },
  {
   "cell_type": "markdown",
   "id": "8628fd80",
   "metadata": {},
   "source": [
    "Масштабируем выборку для линейной регрессии"
   ]
  },
  {
   "cell_type": "code",
   "execution_count": 248,
   "id": "1344892d",
   "metadata": {},
   "outputs": [],
   "source": [
    "scaler = StandardScaler()\n",
    "scaler.fit(features_train) \n",
    "features_train_scaled = scaler.transform(features_train)\n",
    "features_test_scaled = scaler.transform(features_test) "
   ]
  },
  {
   "cell_type": "markdown",
   "id": "3588eab0",
   "metadata": {},
   "source": [
    "Решающее дерево "
   ]
  },
  {
   "cell_type": "code",
   "execution_count": 249,
   "id": "f14c4c7b",
   "metadata": {},
   "outputs": [
    {
     "name": "stdout",
     "output_type": "stream",
     "text": [
      "Лучшее значение sMAPE для решающего древа: 8.949766802616756 при значениях гиперпараметров: {'max_depth': 1}\n"
     ]
    }
   ],
   "source": [
    "param_grid = {'max_depth': range(1, 11)}\n",
    "\n",
    "model = DecisionTreeRegressor(random_state=12345)\n",
    "search = GridSearchCV(model, param_grid, cv=5, scoring=smape_scorer)\n",
    "search.fit(features_train, target_train)\n",
    "print(f'Лучшее значение sMAPE для решающего древа: {-search.best_score_} при значениях гиперпараметров: {search.best_params_}')"
   ]
  },
  {
   "cell_type": "markdown",
   "id": "f68b90f4",
   "metadata": {},
   "source": [
    "Случайный лес"
   ]
  },
  {
   "cell_type": "code",
   "execution_count": 250,
   "id": "5a6fc413",
   "metadata": {},
   "outputs": [
    {
     "name": "stdout",
     "output_type": "stream",
     "text": [
      "Лучшее значение sMAPE для случайного древа: 8.640606910909721 при значениях гиперпараметров: {'max_depth': 3, 'n_estimators': 5}\n"
     ]
    }
   ],
   "source": [
    "param_grid = {'n_estimators': range(1, 11),\n",
    "                  'max_depth': range(1, 11)}\n",
    "\n",
    "model = RandomForestRegressor(random_state=12345)\n",
    "search = GridSearchCV(model, param_grid, cv=5, scoring=smape_scorer)\n",
    "search.fit(features_train, target_train)\n",
    "print(f'Лучшее значение sMAPE для случайного древа: {-search.best_score_} при значениях гиперпараметров: {search.best_params_}')"
   ]
  },
  {
   "cell_type": "markdown",
   "id": "d4bf3e22",
   "metadata": {},
   "source": [
    "Линейная регрессия "
   ]
  },
  {
   "cell_type": "code",
   "execution_count": 251,
   "id": "4100a218",
   "metadata": {},
   "outputs": [
    {
     "name": "stdout",
     "output_type": "stream",
     "text": [
      "Среднее sMAPE на тестовой выборке: 10.027250040577737\n"
     ]
    }
   ],
   "source": [
    "model = LinearRegression()\n",
    "smape_regression = cross_val_score(model, features_train, target_train, cv=5, scoring=smape_scorer).mean()\n",
    "print(\"Среднее sMAPE на тестовой выборке:\", -smape_regression)"
   ]
  },
  {
   "cell_type": "markdown",
   "id": "5bd38f1a",
   "metadata": {},
   "source": [
    "Как видим, наименьший показатель sMAPE у случайного леса с показателями 3 дерева и глубиной 5."
   ]
  },
  {
   "cell_type": "markdown",
   "id": "744f0b34",
   "metadata": {},
   "source": [
    "Смотрим на тестовой выборке"
   ]
  },
  {
   "cell_type": "code",
   "execution_count": 254,
   "id": "e1be0055",
   "metadata": {
    "scrolled": true
   },
   "outputs": [
    {
     "name": "stdout",
     "output_type": "stream",
     "text": [
      "sMAPE на тестовой выборке: 9.363632052482671\n"
     ]
    }
   ],
   "source": [
    "model = RandomForestRegressor(max_depth=3, n_estimators=5, random_state=12345) \n",
    "model.fit(features_train, target_train)\n",
    "predictions = model.predict(features_test)\n",
    "print('sMAPE на тестовой выборке:', final_smape(target_test, predictions))"
   ]
  },
  {
   "cell_type": "markdown",
   "id": "0f2b819e",
   "metadata": {},
   "source": [
    "Похуже, но всё равно хорошее значение sMAPE."
   ]
  },
  {
   "cell_type": "code",
   "execution_count": 255,
   "id": "f96f06ef",
   "metadata": {},
   "outputs": [
    {
     "data": {
      "text/plain": [
       "9.828785881311733"
      ]
     },
     "execution_count": 255,
     "metadata": {},
     "output_type": "execute_result"
    }
   ],
   "source": [
    "dummy_model = DummyRegressor(strategy='mean')\n",
    "dummy_model.fit(features_train, target_train)\n",
    "final_smape(target_test, dummy_model.predict(features_test))"
   ]
  },
  {
   "cell_type": "markdown",
   "id": "42436a6d",
   "metadata": {},
   "source": [
    "Решающее древо и случайный лес показали лучшие результаты, чем дамми-модель со средними арифметическими значениями."
   ]
  },
  {
   "cell_type": "markdown",
   "id": "7c953499",
   "metadata": {},
   "source": [
    "# Общий вывод"
   ]
  },
  {
   "cell_type": "markdown",
   "id": "8a2ac57a",
   "metadata": {},
   "source": [
    "1. Подготовить и обработать данные"
   ]
  },
  {
   "cell_type": "markdown",
   "id": "69688105",
   "metadata": {},
   "source": [
    "В ходе данного исследования мы рассмотрели данные, отражающие получение металла из руды.\n",
    "В данных было много пропусков, которые были заполнены ближайшими значениями из соседних этапов. Отсутсвие некоторого количества колонок в тестовой выборке объясняется задержкой данных. Было добавлено только два целевых стоблца. Отсуствующие в тестовой выборке колонки были удалены из тренировочного датасета.\n",
    "Концентрация золота "
   ]
  },
  {
   "cell_type": "markdown",
   "id": "2c7752dd",
   "metadata": {},
   "source": [
    "2. Посмотреть изменение концентрации металлов и суммарную концентрацию"
   ]
  },
  {
   "cell_type": "markdown",
   "id": "41d45638",
   "metadata": {},
   "source": [
    "Концентрация золота логично возрастала от этапа к этапу. У других металлов финальная концентрация уступала другим этапам. У серебра вообще худшая концентрация на последнем этапе. Связано это с тем, что золото, как самый дорогой металл, очевидно - цель манипуляций, остальные металлы, если не побочный продукт, то явно не главная цель. Общая концентрация в целом также показывала поэтапный рост, в чём видно влияние золота. Также были обнаружено много выбросов в значениях \"0\" по концетрации. Их было решено удалить, как подозрительные выбросы. Тем более, их было около 4 процентов от общего количество наблюдений"
   ]
  },
  {
   "cell_type": "markdown",
   "id": "e5d8469e",
   "metadata": {},
   "source": [
    "3. Сравните распределения размеров гранул сырья на обучающей и тестовой выборках"
   ]
  },
  {
   "cell_type": "markdown",
   "id": "72bc1246",
   "metadata": {},
   "source": [
    "Практически идеальное совпадение, значит модель можно считать правильной."
   ]
  },
  {
   "cell_type": "markdown",
   "id": "fbf7fa49",
   "metadata": {},
   "source": [
    "4. Вычислить показатель sMAPE для разных моделей "
   ]
  },
  {
   "cell_type": "markdown",
   "id": "85cfa341",
   "metadata": {},
   "source": [
    "Из трёх моделей (решающее древо, случайный лес, линейная регрессия) лучший результат показал метод случайный лес с 5 деревьями и глубиной 3. Она показала sMAPE 2,16%, а на тестовой выборке 2,34%."
   ]
  }
 ],
 "metadata": {
  "ExecuteTimeLog": [
   {
    "duration": 29,
    "start_time": "2023-02-25T20:21:35.988Z"
   },
   {
    "duration": 5,
    "start_time": "2023-02-25T20:22:06.988Z"
   },
   {
    "duration": 3,
    "start_time": "2023-02-25T20:22:08.252Z"
   },
   {
    "duration": 16395,
    "start_time": "2023-02-25T20:22:14.676Z"
   },
   {
    "duration": 5,
    "start_time": "2023-02-25T20:23:01.869Z"
   },
   {
    "duration": 4,
    "start_time": "2023-02-25T20:23:02.928Z"
   },
   {
    "duration": 1249,
    "start_time": "2023-02-25T20:23:11.904Z"
   },
   {
    "duration": 4,
    "start_time": "2023-02-25T20:23:19.452Z"
   },
   {
    "duration": 1660,
    "start_time": "2023-02-25T20:23:23.088Z"
   },
   {
    "duration": 4,
    "start_time": "2023-02-25T20:23:43.636Z"
   },
   {
    "duration": 3,
    "start_time": "2023-02-25T20:23:44.880Z"
   },
   {
    "duration": 1416,
    "start_time": "2023-02-25T20:23:49.836Z"
   },
   {
    "duration": 4,
    "start_time": "2023-02-25T20:24:00.117Z"
   },
   {
    "duration": 3,
    "start_time": "2023-02-25T20:24:02.206Z"
   },
   {
    "duration": 1491,
    "start_time": "2023-02-25T20:24:05.660Z"
   },
   {
    "duration": 16547,
    "start_time": "2023-02-25T20:24:08.587Z"
   },
   {
    "duration": 50,
    "start_time": "2023-02-26T07:02:40.198Z"
   },
   {
    "duration": 8,
    "start_time": "2023-02-26T07:07:26.879Z"
   },
   {
    "duration": 1828,
    "start_time": "2023-02-26T07:07:35.501Z"
   },
   {
    "duration": 1028,
    "start_time": "2023-02-26T07:07:37.332Z"
   },
   {
    "duration": 507,
    "start_time": "2023-02-26T07:07:38.362Z"
   },
   {
    "duration": 1982,
    "start_time": "2023-02-26T07:07:38.874Z"
   },
   {
    "duration": 4,
    "start_time": "2023-02-26T07:07:40.858Z"
   },
   {
    "duration": 11,
    "start_time": "2023-02-26T07:07:40.864Z"
   },
   {
    "duration": 54,
    "start_time": "2023-02-26T07:07:40.877Z"
   },
   {
    "duration": 39,
    "start_time": "2023-02-26T07:07:40.933Z"
   },
   {
    "duration": 40,
    "start_time": "2023-02-26T07:07:40.973Z"
   },
   {
    "duration": 19,
    "start_time": "2023-02-26T07:07:41.043Z"
   },
   {
    "duration": 23,
    "start_time": "2023-02-26T07:07:41.064Z"
   },
   {
    "duration": 18,
    "start_time": "2023-02-26T07:07:41.090Z"
   },
   {
    "duration": 41,
    "start_time": "2023-02-26T07:07:41.110Z"
   },
   {
    "duration": 7,
    "start_time": "2023-02-26T07:07:41.152Z"
   },
   {
    "duration": 14,
    "start_time": "2023-02-26T07:07:41.161Z"
   },
   {
    "duration": 11,
    "start_time": "2023-02-26T07:07:41.177Z"
   },
   {
    "duration": 12,
    "start_time": "2023-02-26T07:07:41.190Z"
   },
   {
    "duration": 27,
    "start_time": "2023-02-26T07:07:41.204Z"
   },
   {
    "duration": 8112,
    "start_time": "2023-02-26T07:07:41.233Z"
   },
   {
    "duration": 285,
    "start_time": "2023-02-26T07:07:49.350Z"
   },
   {
    "duration": 0,
    "start_time": "2023-02-26T07:07:49.638Z"
   },
   {
    "duration": 0,
    "start_time": "2023-02-26T07:07:49.639Z"
   },
   {
    "duration": 0,
    "start_time": "2023-02-26T07:07:49.639Z"
   },
   {
    "duration": 0,
    "start_time": "2023-02-26T07:07:49.640Z"
   },
   {
    "duration": 0,
    "start_time": "2023-02-26T07:07:49.641Z"
   },
   {
    "duration": 0,
    "start_time": "2023-02-26T07:07:49.641Z"
   },
   {
    "duration": 0,
    "start_time": "2023-02-26T07:07:49.642Z"
   },
   {
    "duration": 0,
    "start_time": "2023-02-26T07:07:49.647Z"
   },
   {
    "duration": 0,
    "start_time": "2023-02-26T07:07:49.653Z"
   },
   {
    "duration": 0,
    "start_time": "2023-02-26T07:07:49.658Z"
   },
   {
    "duration": 0,
    "start_time": "2023-02-26T07:07:49.660Z"
   },
   {
    "duration": 0,
    "start_time": "2023-02-26T07:07:49.661Z"
   },
   {
    "duration": 0,
    "start_time": "2023-02-26T07:07:49.662Z"
   },
   {
    "duration": 0,
    "start_time": "2023-02-26T07:07:49.663Z"
   },
   {
    "duration": 1104,
    "start_time": "2023-02-26T07:09:38.928Z"
   },
   {
    "duration": 28,
    "start_time": "2023-02-26T07:11:42.789Z"
   },
   {
    "duration": 84,
    "start_time": "2023-02-26T07:12:20.307Z"
   },
   {
    "duration": 31,
    "start_time": "2023-02-26T07:12:49.094Z"
   },
   {
    "duration": 667,
    "start_time": "2023-02-26T07:18:22.302Z"
   },
   {
    "duration": 687,
    "start_time": "2023-02-26T07:19:12.456Z"
   },
   {
    "duration": 619,
    "start_time": "2023-02-26T07:19:38.561Z"
   },
   {
    "duration": 615,
    "start_time": "2023-02-26T07:20:17.302Z"
   },
   {
    "duration": 22,
    "start_time": "2023-02-26T07:21:32.351Z"
   },
   {
    "duration": 19,
    "start_time": "2023-02-26T07:22:34.654Z"
   },
   {
    "duration": 678,
    "start_time": "2023-02-26T07:24:15.837Z"
   },
   {
    "duration": 665,
    "start_time": "2023-02-26T07:25:17.777Z"
   },
   {
    "duration": 1040,
    "start_time": "2023-02-26T07:25:27.234Z"
   },
   {
    "duration": 1216,
    "start_time": "2023-02-26T07:25:33.413Z"
   },
   {
    "duration": 1115,
    "start_time": "2023-02-26T07:27:00.606Z"
   },
   {
    "duration": 740,
    "start_time": "2023-02-26T07:31:10.977Z"
   },
   {
    "duration": 704,
    "start_time": "2023-02-26T07:32:20.284Z"
   },
   {
    "duration": 836,
    "start_time": "2023-02-26T07:32:27.989Z"
   },
   {
    "duration": 610,
    "start_time": "2023-02-26T07:33:36.492Z"
   },
   {
    "duration": 688,
    "start_time": "2023-02-26T07:33:54.303Z"
   },
   {
    "duration": 661,
    "start_time": "2023-02-26T07:34:08.488Z"
   },
   {
    "duration": 1027,
    "start_time": "2023-02-26T07:35:07.497Z"
   },
   {
    "duration": 795,
    "start_time": "2023-02-26T07:35:23.636Z"
   },
   {
    "duration": 823,
    "start_time": "2023-02-26T07:36:00.187Z"
   },
   {
    "duration": 721,
    "start_time": "2023-02-26T07:38:28.572Z"
   },
   {
    "duration": 866,
    "start_time": "2023-02-26T07:38:38.529Z"
   },
   {
    "duration": 795,
    "start_time": "2023-02-26T07:39:10.812Z"
   },
   {
    "duration": 5,
    "start_time": "2023-02-26T07:40:03.470Z"
   },
   {
    "duration": 5,
    "start_time": "2023-02-26T07:40:26.275Z"
   },
   {
    "duration": 383,
    "start_time": "2023-02-26T07:40:30.402Z"
   },
   {
    "duration": 364,
    "start_time": "2023-02-26T07:41:39.867Z"
   },
   {
    "duration": 373,
    "start_time": "2023-02-26T07:41:54.863Z"
   },
   {
    "duration": 5,
    "start_time": "2023-02-26T07:42:34.227Z"
   },
   {
    "duration": 407,
    "start_time": "2023-02-26T07:42:40.229Z"
   },
   {
    "duration": 338,
    "start_time": "2023-02-26T07:43:39.076Z"
   },
   {
    "duration": 803,
    "start_time": "2023-02-26T07:43:46.700Z"
   },
   {
    "duration": 814,
    "start_time": "2023-02-26T07:44:13.391Z"
   },
   {
    "duration": 897,
    "start_time": "2023-02-26T07:44:26.314Z"
   },
   {
    "duration": 1408,
    "start_time": "2023-02-26T07:44:58.149Z"
   },
   {
    "duration": 1097,
    "start_time": "2023-02-26T07:45:44.904Z"
   },
   {
    "duration": 743,
    "start_time": "2023-02-26T07:46:29.155Z"
   },
   {
    "duration": 734,
    "start_time": "2023-02-26T07:49:40.472Z"
   },
   {
    "duration": 780,
    "start_time": "2023-02-26T07:49:46.622Z"
   },
   {
    "duration": 834,
    "start_time": "2023-02-26T07:49:56.800Z"
   },
   {
    "duration": 738,
    "start_time": "2023-02-26T07:50:07.825Z"
   },
   {
    "duration": 878,
    "start_time": "2023-02-26T07:50:46.304Z"
   },
   {
    "duration": 835,
    "start_time": "2023-02-26T07:51:06.153Z"
   },
   {
    "duration": 823,
    "start_time": "2023-02-26T07:51:18.201Z"
   },
   {
    "duration": 808,
    "start_time": "2023-02-26T07:54:15.324Z"
   },
   {
    "duration": 989,
    "start_time": "2023-02-26T07:55:24.116Z"
   },
   {
    "duration": 977,
    "start_time": "2023-02-26T07:55:51.025Z"
   },
   {
    "duration": 828,
    "start_time": "2023-02-26T07:55:59.883Z"
   },
   {
    "duration": 69,
    "start_time": "2023-02-26T07:58:17.753Z"
   },
   {
    "duration": 2111,
    "start_time": "2023-02-26T07:58:24.866Z"
   },
   {
    "duration": 831,
    "start_time": "2023-02-26T07:59:14.979Z"
   },
   {
    "duration": 492,
    "start_time": "2023-02-26T07:59:45.145Z"
   },
   {
    "duration": 842,
    "start_time": "2023-02-26T08:00:03.003Z"
   },
   {
    "duration": 797,
    "start_time": "2023-02-26T08:01:20.666Z"
   },
   {
    "duration": 969,
    "start_time": "2023-02-26T08:03:42.377Z"
   },
   {
    "duration": 992,
    "start_time": "2023-02-26T08:04:02.171Z"
   },
   {
    "duration": 860,
    "start_time": "2023-02-26T08:04:23.569Z"
   },
   {
    "duration": 838,
    "start_time": "2023-02-26T08:04:37.661Z"
   },
   {
    "duration": 565,
    "start_time": "2023-02-26T08:06:48.694Z"
   },
   {
    "duration": 430,
    "start_time": "2023-02-26T08:08:18.491Z"
   },
   {
    "duration": 1362,
    "start_time": "2023-02-26T08:10:36.192Z"
   },
   {
    "duration": 390,
    "start_time": "2023-02-26T08:10:54.366Z"
   },
   {
    "duration": 871,
    "start_time": "2023-02-26T08:11:33.079Z"
   },
   {
    "duration": 833,
    "start_time": "2023-02-26T08:12:10.264Z"
   },
   {
    "duration": 872,
    "start_time": "2023-02-26T08:12:19.384Z"
   },
   {
    "duration": 429,
    "start_time": "2023-02-26T08:12:27.994Z"
   },
   {
    "duration": 847,
    "start_time": "2023-02-26T08:12:36.807Z"
   },
   {
    "duration": 868,
    "start_time": "2023-02-26T08:12:45.799Z"
   },
   {
    "duration": 865,
    "start_time": "2023-02-26T08:13:12.707Z"
   },
   {
    "duration": 1172,
    "start_time": "2023-02-26T08:13:22.333Z"
   },
   {
    "duration": 1112,
    "start_time": "2023-02-26T08:13:30.288Z"
   },
   {
    "duration": 858,
    "start_time": "2023-02-26T08:15:02.363Z"
   },
   {
    "duration": 957,
    "start_time": "2023-02-26T08:15:14.884Z"
   },
   {
    "duration": 1024,
    "start_time": "2023-02-26T08:15:28.602Z"
   },
   {
    "duration": 1034,
    "start_time": "2023-02-26T08:16:33.826Z"
   },
   {
    "duration": 948,
    "start_time": "2023-02-26T08:16:58.638Z"
   },
   {
    "duration": 1048,
    "start_time": "2023-02-26T08:17:08.762Z"
   },
   {
    "duration": 1130,
    "start_time": "2023-02-26T08:17:17.051Z"
   },
   {
    "duration": 1117,
    "start_time": "2023-02-26T08:17:32.815Z"
   },
   {
    "duration": 1153,
    "start_time": "2023-02-26T08:17:46.650Z"
   },
   {
    "duration": 941,
    "start_time": "2023-02-26T08:17:55.454Z"
   },
   {
    "duration": 512,
    "start_time": "2023-02-26T08:18:46.205Z"
   },
   {
    "duration": 475,
    "start_time": "2023-02-26T08:19:15.617Z"
   },
   {
    "duration": 436,
    "start_time": "2023-02-26T08:19:54.972Z"
   },
   {
    "duration": 963,
    "start_time": "2023-02-26T08:20:02.929Z"
   },
   {
    "duration": 946,
    "start_time": "2023-02-26T08:20:13.669Z"
   },
   {
    "duration": 1159,
    "start_time": "2023-02-26T08:20:33.767Z"
   },
   {
    "duration": 91,
    "start_time": "2023-02-26T08:20:53.430Z"
   },
   {
    "duration": 1070,
    "start_time": "2023-02-26T08:21:01.174Z"
   },
   {
    "duration": 1050,
    "start_time": "2023-02-26T08:21:26.420Z"
   },
   {
    "duration": 990,
    "start_time": "2023-02-26T08:21:41.777Z"
   },
   {
    "duration": 1000,
    "start_time": "2023-02-26T08:21:59.209Z"
   },
   {
    "duration": 992,
    "start_time": "2023-02-26T08:22:57.431Z"
   },
   {
    "duration": 1049,
    "start_time": "2023-02-26T08:23:52.678Z"
   },
   {
    "duration": 1080,
    "start_time": "2023-02-26T08:24:00.619Z"
   },
   {
    "duration": 1001,
    "start_time": "2023-02-26T08:24:07.803Z"
   },
   {
    "duration": 1013,
    "start_time": "2023-02-26T08:24:25.021Z"
   },
   {
    "duration": 888,
    "start_time": "2023-02-26T08:24:48.805Z"
   },
   {
    "duration": 77,
    "start_time": "2023-02-26T08:26:34.069Z"
   },
   {
    "duration": 159,
    "start_time": "2023-02-26T08:28:07.533Z"
   },
   {
    "duration": 5,
    "start_time": "2023-02-26T08:28:16.370Z"
   },
   {
    "duration": 341,
    "start_time": "2023-02-26T08:28:16.377Z"
   },
   {
    "duration": 131,
    "start_time": "2023-02-26T08:28:16.720Z"
   },
   {
    "duration": 391,
    "start_time": "2023-02-26T08:28:16.854Z"
   },
   {
    "duration": 3,
    "start_time": "2023-02-26T08:28:17.253Z"
   },
   {
    "duration": 12,
    "start_time": "2023-02-26T08:28:17.258Z"
   },
   {
    "duration": 45,
    "start_time": "2023-02-26T08:28:17.272Z"
   },
   {
    "duration": 36,
    "start_time": "2023-02-26T08:28:17.318Z"
   },
   {
    "duration": 38,
    "start_time": "2023-02-26T08:28:17.356Z"
   },
   {
    "duration": 16,
    "start_time": "2023-02-26T08:28:17.397Z"
   },
   {
    "duration": 43,
    "start_time": "2023-02-26T08:28:17.414Z"
   },
   {
    "duration": 34,
    "start_time": "2023-02-26T08:28:17.459Z"
   },
   {
    "duration": 22,
    "start_time": "2023-02-26T08:28:17.495Z"
   },
   {
    "duration": 3,
    "start_time": "2023-02-26T08:28:17.519Z"
   },
   {
    "duration": 34,
    "start_time": "2023-02-26T08:28:17.524Z"
   },
   {
    "duration": 7,
    "start_time": "2023-02-26T08:28:17.560Z"
   },
   {
    "duration": 18,
    "start_time": "2023-02-26T08:28:17.569Z"
   },
   {
    "duration": 8,
    "start_time": "2023-02-26T08:28:17.589Z"
   },
   {
    "duration": 8620,
    "start_time": "2023-02-26T08:28:17.599Z"
   },
   {
    "duration": 1016,
    "start_time": "2023-02-26T08:28:26.221Z"
   },
   {
    "duration": 1968,
    "start_time": "2023-02-26T08:28:27.251Z"
   },
   {
    "duration": 575,
    "start_time": "2023-02-26T08:28:29.222Z"
   },
   {
    "duration": 84,
    "start_time": "2023-02-26T08:28:29.799Z"
   },
   {
    "duration": 18,
    "start_time": "2023-02-26T08:28:29.885Z"
   },
   {
    "duration": 38,
    "start_time": "2023-02-26T08:28:29.905Z"
   },
   {
    "duration": 8,
    "start_time": "2023-02-26T08:28:29.950Z"
   },
   {
    "duration": 42,
    "start_time": "2023-02-26T08:28:29.960Z"
   },
   {
    "duration": 31,
    "start_time": "2023-02-26T08:28:30.005Z"
   },
   {
    "duration": 68,
    "start_time": "2023-02-26T08:28:30.038Z"
   },
   {
    "duration": 109,
    "start_time": "2023-02-26T08:28:30.108Z"
   },
   {
    "duration": 0,
    "start_time": "2023-02-26T08:28:30.220Z"
   },
   {
    "duration": 0,
    "start_time": "2023-02-26T08:28:30.224Z"
   },
   {
    "duration": 0,
    "start_time": "2023-02-26T08:28:30.225Z"
   },
   {
    "duration": 0,
    "start_time": "2023-02-26T08:28:30.226Z"
   },
   {
    "duration": 102,
    "start_time": "2023-02-26T08:31:46.025Z"
   },
   {
    "duration": 6,
    "start_time": "2023-02-26T08:32:17.103Z"
   },
   {
    "duration": 359,
    "start_time": "2023-02-26T08:32:17.112Z"
   },
   {
    "duration": 122,
    "start_time": "2023-02-26T08:32:17.473Z"
   },
   {
    "duration": 403,
    "start_time": "2023-02-26T08:32:17.597Z"
   },
   {
    "duration": 3,
    "start_time": "2023-02-26T08:32:18.002Z"
   },
   {
    "duration": 13,
    "start_time": "2023-02-26T08:32:18.006Z"
   },
   {
    "duration": 51,
    "start_time": "2023-02-26T08:32:18.021Z"
   },
   {
    "duration": 40,
    "start_time": "2023-02-26T08:32:18.074Z"
   },
   {
    "duration": 49,
    "start_time": "2023-02-26T08:32:18.140Z"
   },
   {
    "duration": 15,
    "start_time": "2023-02-26T08:32:18.194Z"
   },
   {
    "duration": 41,
    "start_time": "2023-02-26T08:32:18.211Z"
   },
   {
    "duration": 27,
    "start_time": "2023-02-26T08:32:18.253Z"
   },
   {
    "duration": 27,
    "start_time": "2023-02-26T08:32:18.282Z"
   },
   {
    "duration": 3,
    "start_time": "2023-02-26T08:32:18.311Z"
   },
   {
    "duration": 12,
    "start_time": "2023-02-26T08:32:18.315Z"
   },
   {
    "duration": 15,
    "start_time": "2023-02-26T08:32:18.329Z"
   },
   {
    "duration": 17,
    "start_time": "2023-02-26T08:32:18.346Z"
   },
   {
    "duration": 14,
    "start_time": "2023-02-26T08:32:18.365Z"
   },
   {
    "duration": 8312,
    "start_time": "2023-02-26T08:32:18.381Z"
   },
   {
    "duration": 1020,
    "start_time": "2023-02-26T08:32:26.695Z"
   },
   {
    "duration": 1873,
    "start_time": "2023-02-26T08:32:27.717Z"
   },
   {
    "duration": 791,
    "start_time": "2023-02-26T08:32:29.592Z"
   },
   {
    "duration": 84,
    "start_time": "2023-02-26T08:32:30.385Z"
   },
   {
    "duration": 19,
    "start_time": "2023-02-26T08:32:30.471Z"
   },
   {
    "duration": 41,
    "start_time": "2023-02-26T08:32:30.492Z"
   },
   {
    "duration": 42,
    "start_time": "2023-02-26T08:32:30.535Z"
   },
   {
    "duration": 30,
    "start_time": "2023-02-26T08:32:30.579Z"
   },
   {
    "duration": 65,
    "start_time": "2023-02-26T08:32:30.613Z"
   },
   {
    "duration": 77,
    "start_time": "2023-02-26T08:32:30.679Z"
   },
   {
    "duration": 17204,
    "start_time": "2023-02-26T08:32:30.758Z"
   },
   {
    "duration": 105110,
    "start_time": "2023-02-26T08:32:47.964Z"
   },
   {
    "duration": 0,
    "start_time": "2023-02-26T08:34:33.076Z"
   },
   {
    "duration": 0,
    "start_time": "2023-02-26T08:34:33.077Z"
   },
   {
    "duration": 0,
    "start_time": "2023-02-26T08:34:33.078Z"
   },
   {
    "duration": 5,
    "start_time": "2023-02-26T08:34:34.398Z"
   },
   {
    "duration": 412,
    "start_time": "2023-02-26T08:34:34.405Z"
   },
   {
    "duration": 145,
    "start_time": "2023-02-26T08:34:34.818Z"
   },
   {
    "duration": 430,
    "start_time": "2023-02-26T08:34:34.965Z"
   },
   {
    "duration": 2,
    "start_time": "2023-02-26T08:34:35.398Z"
   },
   {
    "duration": 9,
    "start_time": "2023-02-26T08:34:35.403Z"
   },
   {
    "duration": 58,
    "start_time": "2023-02-26T08:34:35.414Z"
   },
   {
    "duration": 33,
    "start_time": "2023-02-26T08:34:35.474Z"
   },
   {
    "duration": 54,
    "start_time": "2023-02-26T08:34:35.508Z"
   },
   {
    "duration": 14,
    "start_time": "2023-02-26T08:34:35.565Z"
   },
   {
    "duration": 16,
    "start_time": "2023-02-26T08:34:35.580Z"
   },
   {
    "duration": 44,
    "start_time": "2023-02-26T08:34:35.598Z"
   },
   {
    "duration": 25,
    "start_time": "2023-02-26T08:34:35.644Z"
   },
   {
    "duration": 3,
    "start_time": "2023-02-26T08:34:35.671Z"
   },
   {
    "duration": 7,
    "start_time": "2023-02-26T08:34:35.675Z"
   },
   {
    "duration": 5,
    "start_time": "2023-02-26T08:34:35.684Z"
   },
   {
    "duration": 15,
    "start_time": "2023-02-26T08:34:35.691Z"
   },
   {
    "duration": 5,
    "start_time": "2023-02-26T08:34:35.708Z"
   },
   {
    "duration": 8634,
    "start_time": "2023-02-26T08:34:35.714Z"
   },
   {
    "duration": 957,
    "start_time": "2023-02-26T08:34:44.351Z"
   },
   {
    "duration": 1782,
    "start_time": "2023-02-26T08:34:45.310Z"
   },
   {
    "duration": 530,
    "start_time": "2023-02-26T08:34:47.094Z"
   },
   {
    "duration": 68,
    "start_time": "2023-02-26T08:34:47.627Z"
   },
   {
    "duration": 17,
    "start_time": "2023-02-26T08:34:47.697Z"
   },
   {
    "duration": 39,
    "start_time": "2023-02-26T08:34:47.716Z"
   },
   {
    "duration": 5,
    "start_time": "2023-02-26T08:34:47.757Z"
   },
   {
    "duration": 7,
    "start_time": "2023-02-26T08:34:47.764Z"
   },
   {
    "duration": 8,
    "start_time": "2023-02-26T08:34:47.775Z"
   },
   {
    "duration": 23,
    "start_time": "2023-02-26T08:34:47.785Z"
   },
   {
    "duration": 17242,
    "start_time": "2023-02-26T08:34:47.810Z"
   },
   {
    "duration": 0,
    "start_time": "2023-02-26T08:37:21.698Z"
   },
   {
    "duration": 0,
    "start_time": "2023-02-26T08:37:21.699Z"
   },
   {
    "duration": 0,
    "start_time": "2023-02-26T08:37:21.700Z"
   },
   {
    "duration": 0,
    "start_time": "2023-02-26T08:37:21.701Z"
   },
   {
    "duration": 0,
    "start_time": "2023-02-26T08:37:21.702Z"
   },
   {
    "duration": 0,
    "start_time": "2023-02-26T08:37:21.704Z"
   },
   {
    "duration": 0,
    "start_time": "2023-02-26T08:37:21.705Z"
   },
   {
    "duration": 0,
    "start_time": "2023-02-26T08:37:21.707Z"
   },
   {
    "duration": 0,
    "start_time": "2023-02-26T08:37:21.707Z"
   },
   {
    "duration": 0,
    "start_time": "2023-02-26T08:37:21.740Z"
   },
   {
    "duration": 0,
    "start_time": "2023-02-26T08:37:21.751Z"
   },
   {
    "duration": 0,
    "start_time": "2023-02-26T08:37:21.752Z"
   },
   {
    "duration": 0,
    "start_time": "2023-02-26T08:37:21.753Z"
   },
   {
    "duration": 0,
    "start_time": "2023-02-26T08:37:21.755Z"
   },
   {
    "duration": 0,
    "start_time": "2023-02-26T08:37:21.756Z"
   },
   {
    "duration": 0,
    "start_time": "2023-02-26T08:37:21.758Z"
   },
   {
    "duration": 0,
    "start_time": "2023-02-26T08:37:21.760Z"
   },
   {
    "duration": 0,
    "start_time": "2023-02-26T08:37:21.761Z"
   },
   {
    "duration": 0,
    "start_time": "2023-02-26T08:37:21.763Z"
   },
   {
    "duration": 1,
    "start_time": "2023-02-26T08:37:21.764Z"
   },
   {
    "duration": 0,
    "start_time": "2023-02-26T08:37:21.767Z"
   },
   {
    "duration": 0,
    "start_time": "2023-02-26T08:37:21.768Z"
   },
   {
    "duration": 0,
    "start_time": "2023-02-26T08:37:21.770Z"
   },
   {
    "duration": 0,
    "start_time": "2023-02-26T08:37:21.771Z"
   },
   {
    "duration": 0,
    "start_time": "2023-02-26T08:37:21.773Z"
   },
   {
    "duration": 0,
    "start_time": "2023-02-26T08:37:21.774Z"
   },
   {
    "duration": 0,
    "start_time": "2023-02-26T08:37:21.776Z"
   },
   {
    "duration": 0,
    "start_time": "2023-02-26T08:37:21.777Z"
   },
   {
    "duration": 0,
    "start_time": "2023-02-26T08:37:21.779Z"
   },
   {
    "duration": 0,
    "start_time": "2023-02-26T08:37:21.781Z"
   },
   {
    "duration": 0,
    "start_time": "2023-02-26T08:37:21.783Z"
   },
   {
    "duration": 0,
    "start_time": "2023-02-26T08:37:21.838Z"
   },
   {
    "duration": 0,
    "start_time": "2023-02-26T08:37:21.839Z"
   },
   {
    "duration": 0,
    "start_time": "2023-02-26T08:37:21.840Z"
   },
   {
    "duration": 5,
    "start_time": "2023-02-26T08:37:23.610Z"
   },
   {
    "duration": 353,
    "start_time": "2023-02-26T08:37:23.618Z"
   },
   {
    "duration": 114,
    "start_time": "2023-02-26T08:37:23.972Z"
   },
   {
    "duration": 415,
    "start_time": "2023-02-26T08:37:24.088Z"
   },
   {
    "duration": 5,
    "start_time": "2023-02-26T08:37:24.506Z"
   },
   {
    "duration": 19,
    "start_time": "2023-02-26T08:37:24.513Z"
   },
   {
    "duration": 71,
    "start_time": "2023-02-26T08:37:24.534Z"
   },
   {
    "duration": 29,
    "start_time": "2023-02-26T08:37:24.607Z"
   },
   {
    "duration": 41,
    "start_time": "2023-02-26T08:37:24.638Z"
   },
   {
    "duration": 13,
    "start_time": "2023-02-26T08:37:24.681Z"
   },
   {
    "duration": 24,
    "start_time": "2023-02-26T08:37:24.696Z"
   },
   {
    "duration": 29,
    "start_time": "2023-02-26T08:37:24.722Z"
   },
   {
    "duration": 34,
    "start_time": "2023-02-26T08:37:24.754Z"
   },
   {
    "duration": 3,
    "start_time": "2023-02-26T08:37:24.793Z"
   },
   {
    "duration": 19,
    "start_time": "2023-02-26T08:37:24.798Z"
   },
   {
    "duration": 34,
    "start_time": "2023-02-26T08:37:24.819Z"
   },
   {
    "duration": 23,
    "start_time": "2023-02-26T08:37:24.855Z"
   },
   {
    "duration": 14,
    "start_time": "2023-02-26T08:37:24.880Z"
   },
   {
    "duration": 9561,
    "start_time": "2023-02-26T08:37:24.896Z"
   },
   {
    "duration": 1063,
    "start_time": "2023-02-26T08:37:34.459Z"
   },
   {
    "duration": 1888,
    "start_time": "2023-02-26T08:37:35.524Z"
   },
   {
    "duration": 546,
    "start_time": "2023-02-26T08:37:37.415Z"
   },
   {
    "duration": 81,
    "start_time": "2023-02-26T08:37:37.963Z"
   },
   {
    "duration": 23,
    "start_time": "2023-02-26T08:37:38.046Z"
   },
   {
    "duration": 21,
    "start_time": "2023-02-26T08:37:38.071Z"
   },
   {
    "duration": 5,
    "start_time": "2023-02-26T08:37:38.094Z"
   },
   {
    "duration": 8,
    "start_time": "2023-02-26T08:37:38.101Z"
   },
   {
    "duration": 40,
    "start_time": "2023-02-26T08:37:38.110Z"
   },
   {
    "duration": 37,
    "start_time": "2023-02-26T08:37:38.153Z"
   },
   {
    "duration": 17498,
    "start_time": "2023-02-26T08:37:38.193Z"
   },
   {
    "duration": 573704,
    "start_time": "2023-02-26T08:37:55.692Z"
   },
   {
    "duration": 2340,
    "start_time": "2023-02-26T08:47:29.399Z"
   },
   {
    "duration": 904,
    "start_time": "2023-02-26T08:47:31.742Z"
   },
   {
    "duration": 14,
    "start_time": "2023-02-26T08:47:32.651Z"
   },
   {
    "duration": 830,
    "start_time": "2023-02-26T08:48:51.876Z"
   },
   {
    "duration": 9,
    "start_time": "2023-02-26T08:50:06.920Z"
   }
  ],
  "kernelspec": {
   "display_name": "Python 3 (ipykernel)",
   "language": "python",
   "name": "python3"
  },
  "language_info": {
   "codemirror_mode": {
    "name": "ipython",
    "version": 3
   },
   "file_extension": ".py",
   "mimetype": "text/x-python",
   "name": "python",
   "nbconvert_exporter": "python",
   "pygments_lexer": "ipython3",
   "version": "3.9.13"
  },
  "toc": {
   "base_numbering": 1,
   "nav_menu": {},
   "number_sections": true,
   "sideBar": true,
   "skip_h1_title": true,
   "title_cell": "Table of Contents",
   "title_sidebar": "Contents",
   "toc_cell": false,
   "toc_position": {
    "height": "calc(100% - 180px)",
    "left": "10px",
    "top": "150px",
    "width": "165px"
   },
   "toc_section_display": true,
   "toc_window_display": true
  }
 },
 "nbformat": 4,
 "nbformat_minor": 5
}
